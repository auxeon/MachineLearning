{
 "cells": [
  {
   "cell_type": "markdown",
   "metadata": {},
   "source": [
    "# Predicting Housing Prices Using Linear Regression\n",
    "-----------------------------------------------------"
   ]
  },
  {
   "cell_type": "markdown",
   "metadata": {},
   "source": [
    "### ```1.1.0``` Import Packages"
   ]
  },
  {
   "cell_type": "code",
   "execution_count": 62,
   "metadata": {},
   "outputs": [],
   "source": [
    "import numpy as np\n",
    "import matplotlib.pyplot as plt\n",
    "import pandas as pd\n",
    "import seaborn as sns\n",
    "from sklearn.metrics import explained_variance_score,r2_score\n",
    "from sklearn import linear_model"
   ]
  },
  {
   "cell_type": "markdown",
   "metadata": {},
   "source": [
    "\n",
    "### ```2.1.0``` Pre - Processing Raw Data\n",
    "\n",
    "* Features Dropped - due to irrelevance\n",
    "    * ```SALE TYPE```,```SOLD DATA```,```FAVORITE```,```INTERESTED```,```STATE```,```STATUS```,```NEXT OPEN HOUSE START TIME```,```NEXT OPEN HOUSE END TIME```,```SOURCE```\n",
    "* Deleted 11 data points \\[22,32\\] - as they were housing plans and not real houses\n",
    "* ```HOA/MONTH``` - ignoring this feature as it has too many ```60``` missing data points to be reliable"
   ]
  },
  {
   "cell_type": "code",
   "execution_count": 63,
   "metadata": {},
   "outputs": [
    {
     "data": {
      "text/plain": [
       "(131, 27)"
      ]
     },
     "execution_count": 63,
     "metadata": {},
     "output_type": "execute_result"
    }
   ],
   "source": [
    "# raw data\n",
    "raw_df = pd.read_csv(r'data/RAW_redfin_2020-02-01-16-52-40.csv')\n",
    "raw_df.shape"
   ]
  },
  {
   "cell_type": "code",
   "execution_count": 64,
   "metadata": {},
   "outputs": [
    {
     "data": {
      "text/plain": [
       "(120, 18)"
      ]
     },
     "execution_count": 64,
     "metadata": {},
     "output_type": "execute_result"
    }
   ],
   "source": [
    "# modified data\n",
    "df = pd.read_csv(r'data/MOD_redfin_2020-02-01-16-52-40.csv')\n",
    "df.shape"
   ]
  },
  {
   "cell_type": "markdown",
   "metadata": {},
   "source": [
    "### ```2.2.0``` Measures of Central Tendencies"
   ]
  },
  {
   "cell_type": "code",
   "execution_count": 65,
   "metadata": {},
   "outputs": [
    {
     "data": {
      "text/html": [
       "<div>\n",
       "<style scoped>\n",
       "    .dataframe tbody tr th:only-of-type {\n",
       "        vertical-align: middle;\n",
       "    }\n",
       "\n",
       "    .dataframe tbody tr th {\n",
       "        vertical-align: top;\n",
       "    }\n",
       "\n",
       "    .dataframe thead th {\n",
       "        text-align: right;\n",
       "    }\n",
       "</style>\n",
       "<table border=\"1\" class=\"dataframe\">\n",
       "  <thead>\n",
       "    <tr style=\"text-align: right;\">\n",
       "      <th></th>\n",
       "      <th>MEAN</th>\n",
       "      <th>MEDIAN</th>\n",
       "      <th>STD DEVIATION</th>\n",
       "    </tr>\n",
       "  </thead>\n",
       "  <tbody>\n",
       "    <tr>\n",
       "      <th>PRICE</th>\n",
       "      <td>775613.366667</td>\n",
       "      <td>779895.0</td>\n",
       "      <td>355431.998217</td>\n",
       "    </tr>\n",
       "    <tr>\n",
       "      <th>BEDS</th>\n",
       "      <td>3.500000</td>\n",
       "      <td>4.0</td>\n",
       "      <td>1.466718</td>\n",
       "    </tr>\n",
       "    <tr>\n",
       "      <th>BATHS</th>\n",
       "      <td>2.638393</td>\n",
       "      <td>2.5</td>\n",
       "      <td>0.619539</td>\n",
       "    </tr>\n",
       "    <tr>\n",
       "      <th>SQUARE FEET</th>\n",
       "      <td>2366.447368</td>\n",
       "      <td>2404.5</td>\n",
       "      <td>881.377202</td>\n",
       "    </tr>\n",
       "    <tr>\n",
       "      <th>$/SQUARE FEET</th>\n",
       "      <td>317.517544</td>\n",
       "      <td>321.5</td>\n",
       "      <td>101.471757</td>\n",
       "    </tr>\n",
       "    <tr>\n",
       "      <th>HOA/MONTH</th>\n",
       "      <td>141.200000</td>\n",
       "      <td>109.0</td>\n",
       "      <td>101.684757</td>\n",
       "    </tr>\n",
       "    <tr>\n",
       "      <th>DAYS ON MARKET</th>\n",
       "      <td>69.458333</td>\n",
       "      <td>18.0</td>\n",
       "      <td>112.333380</td>\n",
       "    </tr>\n",
       "  </tbody>\n",
       "</table>\n",
       "</div>"
      ],
      "text/plain": [
       "                         MEAN    MEDIAN  STD DEVIATION\n",
       "PRICE           775613.366667  779895.0  355431.998217\n",
       "BEDS                 3.500000       4.0       1.466718\n",
       "BATHS                2.638393       2.5       0.619539\n",
       "SQUARE FEET       2366.447368    2404.5     881.377202\n",
       "$/SQUARE FEET      317.517544     321.5     101.471757\n",
       "HOA/MONTH          141.200000     109.0     101.684757\n",
       "DAYS ON MARKET      69.458333      18.0     112.333380"
      ]
     },
     "execution_count": 65,
     "metadata": {},
     "output_type": "execute_result"
    }
   ],
   "source": [
    "# some state on the numerical features to get a general sense of the dataset\n",
    "\n",
    "cols = ['PRICE','BEDS','BATHS','SQUARE FEET','$/SQUARE FEET','HOA/MONTH','DAYS ON MARKET']\n",
    "mean = {}\n",
    "std = {}\n",
    "median = {}\n",
    "\n",
    "dfprint = pd.DataFrame(index=cols)\n",
    "\n",
    "for col in cols:\n",
    "    std[col] = df[col].std()\n",
    "    mean[col] = df[col].mean()\n",
    "    median[col] = df[col].median()\n",
    "\n",
    "\n",
    "dfprint['MEAN'] = mean.values()\n",
    "dfprint['MEDIAN'] = median.values()\n",
    "dfprint['STD DEVIATION'] = std.values()\n",
    "\n",
    "dfprint.head(len(cols))\n"
   ]
  },
  {
   "cell_type": "markdown",
   "metadata": {},
   "source": [
    "### ```2.3.0``` Determining the viability of the features\n",
    "\n",
    "* Chosen Features as input exploration\n",
    "    * ```BEDS```\n",
    "    * ```BATHS```\n",
    "    * ```SQUARE FEET```\n",
    "    * ```LOT SIZE```\n",
    "\n",
    "\n",
    "* <html>\n",
    "<table style=\"margin-left:0\">\n",
    "    <tr>\n",
    "    <th>Original Feature space</th>\n",
    "    <th>Suggested Feature space</th>\n",
    "    </tr>\n",
    "    <tr>\n",
    "        <td>27</td>\n",
    "        <td>4</td>\n",
    "    </tr>\n",
    "</table>\n",
    "</html>\n",
    "\n",
    "* A useful indicator might be the correlation matrix between the chosen features.\n",
    "* Covariance between the 2 random variables $Cov(\\vec{X},\\vec{Y})$ is calculated as below\n",
    "    * $Cov(\\vec{X},\\vec{Y}) = \\dfrac{\\sum_{i=1}^{n}(X_i - \\overline{X})\\sum_{i=1}^{n}(Y_i - \\overline{Y})}{n}$\n",
    "* Correlation between two random variables X,Y is described as below\n",
    "    * $ \\rho(\\vec{X},\\vec{Y}) = \\dfrac{Cov(\\vec{X},{\\vec{Y}})}{\\sigma_X\\sigma_Y} $\n"
   ]
  },
  {
   "cell_type": "code",
   "execution_count": 66,
   "metadata": {},
   "outputs": [
    {
     "data": {
      "text/plain": [
       "<matplotlib.axes._subplots.AxesSubplot at 0x7f08b9c09e90>"
      ]
     },
     "execution_count": 66,
     "metadata": {},
     "output_type": "execute_result"
    },
    {
     "data": {
      "image/png": "[encoded data removed]",
      "text/plain": [
       "<Figure size 432x288 with 2 Axes>"
      ]
     },
     "metadata": {
      "needs_background": "light"
     },
     "output_type": "display_data"
    }
   ],
   "source": [
    "# correlation between the above features and price\n",
    "df_temp = df[['PRICE','SQUARE FEET','LOT SIZE','ZIP OR POSTAL CODE']]\n",
    "df = df[['BEDS','BATHS','SQUARE FEET','LOT SIZE','ZIP OR POSTAL CODE','PRICE']]\n",
    "correlation = df.corr()\n",
    "sns.heatmap(correlation,annot=True)\n"
   ]
  },
  {
   "cell_type": "markdown",
   "metadata": {},
   "source": [
    "### ```2.3.1``` Explaining the correlation matrix above\n",
    "\n",
    "* Both these tell us that BEDS, BATHS are very strongly correlated to SQUARE FEET\n",
    "    * ```(BEDS,SQUARE FEET)``` - very strong correlation\n",
    "    * ```(BATHS,SQUARE FEET)``` - very strong correlation\n",
    "\n",
    "    \n",
    "* We can keep one of ```BEDS,BATHS,SQUARE FEET``` but ```(BEDS,BATHS)``` are not as strong indicators of each other as ```SQUARE FEET```\n",
    "    * ```(BEDS,BATHS)``` - strong correlation not that significant\n",
    "    \n",
    "    \n",
    "* Looking at the above we can probably discard ```BEDS``` and ```BATHS```\n",
    "* Let's look at ```(SQUARE FEET,LOT SIZE)``` the negative correlation makes sense that as ```SQUARE FEET``` grows ```LOT SIZE``` likely shrinks It is correlated but it's not very strong as in the previous cases.\n",
    "    * ```(LOT SIZE,SQUARE FEET)``` - we can probably keep both these features\n",
    "\n",
    "\n",
    "* `ZIP OR POSTAL CODE` atcually looks very promising looking at it's correlation matrix - this is a prime candidate for further exploration"
   ]
  },
  {
   "cell_type": "markdown",
   "metadata": {},
   "source": [
    "### ```2.4.0``` Dealing with missing values\n",
    "\n",
    "* ```SQUARE FEET``` - setting value to ```0``` - these are just empty land properties\n",
    "* ```LOT SIZE``` - setting value to ```0``` - these are zero-lot-line houses with structures almost at the end of the property\n",
    "* ```ZIP CODE``` next and it doesn't have any missing data so it seems to be our lucky day here\n"
   ]
  },
  {
   "cell_type": "code",
   "execution_count": 67,
   "metadata": {},
   "outputs": [],
   "source": [
    "cols = ['SQUARE FEET','PRICE','LOT SIZE','BEDS','BATHS']\n",
    "for col in cols:\n",
    "    df[col].fillna(0,inplace=True)"
   ]
  },
  {
   "cell_type": "markdown",
   "metadata": {},
   "source": [
    "### ```2.5.0``` Exploring other features\n",
    "* Looking at the data one feature that jumps out is the ```ZIP CODE```\n",
    "* This however is categorical data \n",
    "* Since the house listings are nicely grouped into just a few ```ZIP CODE```'s, we can use some thing called one-hot encoding \n",
    "* This basically represents each unique ```ZIP CODE``` as a new feature and each row marks ```1 IF IT BELONGS ``` ```0 IF IT DOES NOT BELONG``` to the ```ZIP CODE```\n",
    "* You can read more about one hot encoding to get a clearer understanding [here](https://towardsdatascience.com/one-hot-encoding-multicollinearity-and-the-dummy-variable-trap-b5840be3c41a)"
   ]
  },
  {
   "cell_type": "code",
   "execution_count": 68,
   "metadata": {},
   "outputs": [],
   "source": [
    "# one hot encoding the ZIP CODE feature\n",
    "ohe_df = pd.get_dummies(df['ZIP OR POSTAL CODE'],prefix='ZIP',drop_first=True)\n",
    "df = pd.concat([df,ohe_df],axis=1)"
   ]
  },
  {
   "cell_type": "markdown",
   "metadata": {},
   "source": [
    "### ```2.5.1``` Determining the viability of the new features"
   ]
  },
  {
   "cell_type": "code",
   "execution_count": 69,
   "metadata": {},
   "outputs": [
    {
     "data": {
      "image/png": "[encoded data removed]",
      "text/plain": [
       "<Figure size 432x288 with 2 Axes>"
      ]
     },
     "metadata": {
      "needs_background": "light"
     },
     "output_type": "display_data"
    }
   ],
   "source": [
    "# covariance matrix of the ohe concat matrix \n",
    "correlation = df[['PRICE','BEDS','BATHS','SQUARE FEET','ZIP_98012','ZIP_98021','ZIP_98028','ZIP_98036']].corr()\n",
    "sns.heatmap(correlation,annot=True)\n",
    "df = df[['PRICE','BEDS','BATHS','SQUARE FEET','ZIP_98012','ZIP_98021','ZIP_98028','ZIP_98036']]"
   ]
  },
  {
   "cell_type": "markdown",
   "metadata": {},
   "source": [
    "### ```2.5.2``` Explaining the above correlation matrix\n",
    "\n",
    "* The Values above look very promising as they do not have a strong correlation with each other\n",
    "* What this implies is that each feature that we selected can contribute something new to our regression model"
   ]
  },
  {
   "cell_type": "markdown",
   "metadata": {},
   "source": [
    "### ```2.6.0``` Visualizing the data\n",
    "\n",
    "* Looking at the scatter plot for all the different pair wise planes basically tells us that, amongst the numerical features the one's with the lowest amount of spread most likely don't contribute anything significant to our linear regression model \n",
    "* This gives us a more intuitive feel for the spread of the data \n",
    "* I've also grouped the feature histograms by postal codes get a sense of their spread over the same neighborhood\n"
   ]
  },
  {
   "cell_type": "code",
   "execution_count": 70,
   "metadata": {},
   "outputs": [
    {
     "data": {
      "image/png": "[encoded data removed]",
      "text/plain": [
       "<Figure size 654.75x540 with 12 Axes>"
      ]
     },
     "metadata": {
      "needs_background": "light"
     },
     "output_type": "display_data"
    }
   ],
   "source": [
    "# The pairwise plot of each of the features - giving us a sense of the spread of the data\n",
    "sns.pairplot(df_temp,hue='ZIP OR POSTAL CODE',diag_kind='hist')\n",
    "plt.show()"
   ]
  },
  {
   "cell_type": "markdown",
   "metadata": {},
   "source": [
    "### ```3.1.0``` Splitting data sets\n",
    "\n",
    "* <html>\n",
    "<table style=\"margin-left:0\">\n",
    "    <tr>\n",
    "    <th>Original Feature space</th>\n",
    "    <th>Final Feature space</th>\n",
    "    </tr>\n",
    "    <tr>\n",
    "        <td>27</td>\n",
    "        <td>7</td>\n",
    "    </tr>\n",
    "</table>\n",
    "</html>\n",
    "\n",
    "* <html>\n",
    "<table style=\"margin-left:0\">\n",
    "    <tr>\n",
    "    <th>Training Data</th>\n",
    "    <th>Validation Data</th>\n",
    "    <th>Test Data</th>\n",
    "        <th>Total Data Points</th>\n",
    "    </tr>\n",
    "    <tr>\n",
    "        <td>60%</td>\n",
    "        <td>20%</td>\n",
    "        <td>20%</td>\n",
    "        <td>120</td>\n",
    "    </tr>\n",
    "</table>\n",
    "</html>"
   ]
  },
  {
   "cell_type": "code",
   "execution_count": 71,
   "metadata": {},
   "outputs": [],
   "source": [
    "# doing a randomized split of the dataset so as to reduce training bias\n",
    "\n",
    "df_train = df.sample(n=72)\n",
    "df_validation = df.sample(n=24)\n",
    "df_test = df.sample(n=24)"
   ]
  },
  {
   "cell_type": "code",
   "execution_count": 72,
   "metadata": {},
   "outputs": [
    {
     "name": "stdout",
     "output_type": "stream",
     "text": [
      "Training Data :  (72, 8)\n",
      "Validation Data :  (24, 8)\n",
      "Test Data :  (24, 8)\n"
     ]
    }
   ],
   "source": [
    "# Data point counts\n",
    "\n",
    "print('Training Data : ',df_train.shape)\n",
    "print('Validation Data : ',df_validation.shape)\n",
    "print('Test Data : ',df_test.shape)"
   ]
  },
  {
   "cell_type": "markdown",
   "metadata": {},
   "source": [
    "### ```4.1.0``` Linear Regression - Using The Normal Equation\n",
    "\n",
    "* Our Goal is to find weights $\\vec{\\omega}$ that model the data as closely as possible. \n",
    "* The model $h(\\vec{X})$ is a weighted linear combination of these weights $\\omega_i \\in \\vec{\\omega}$ and their respective features $x_i \\in \\vec{X}$\n",
    "    * $h(\\vec{X}) = \\vec{\\omega}^t \\vec{X}$\n",
    "    * $h(x) = \\omega_0 + \\omega_1x_1 + \\omega_2x_2 ... \\omega_nx_n$\n",
    "    * $\\vec{\\omega} = (X^T.X + \\epsilon I)^{-1}.X^T.Y$  $I$ is the identity matrix of suitable dimension"
   ]
  },
  {
   "cell_type": "code",
   "execution_count": 73,
   "metadata": {},
   "outputs": [],
   "source": [
    "# helper functions\n",
    "\n",
    "def train(df,num_features,epsilon):\n",
    "    column = np.full(df.shape[0],1.0)\n",
    "    mat_xy = df.to_numpy()\n",
    "    X = mat_xy[:,1:num_features+1]\n",
    "    X = np.insert(X,0,column,axis=1)  #accounting for w0\n",
    "    Y = mat_xy[:,0]\n",
    "    W = np.linalg.inv(X.T.dot(X) + epsilon*np.identity(X.shape[1])).dot(X.T).dot(Y)\n",
    "    return W\n",
    "\n",
    "def predict(df,w):\n",
    "    column = np.full(df.shape[0],1.0)\n",
    "    mat_xy = df.to_numpy()\n",
    "    mat_xy = np.insert(mat_xy,1,column,axis=1)  #accounting for w0\n",
    "    return mat_xy[:,1:(len(w)+1)].dot(w)\n",
    "\n",
    "def plot(df,feature):\n",
    "    plt.plot(df[feature],df['PRICE'],'.',color='xkcd:azure',label='REAL PRICE')\n",
    "    plt.plot(df[feature],df['PREDICTED PRICE'],'+',color='xkcd:orange',label='PREDICTED PRICE')\n",
    "    plt.xlabel(feature)\n",
    "    plt.ylabel('PRICE')\n",
    "    plt.legend(loc='best')\n",
    "    plt.show()"
   ]
  },
  {
   "cell_type": "markdown",
   "metadata": {},
   "source": [
    "### ```4.2.0``` Linear Regression - Model Training"
   ]
  },
  {
   "cell_type": "code",
   "execution_count": 74,
   "metadata": {},
   "outputs": [],
   "source": [
    "W = train(df_train,7,0.00000000000000000000000000000001)"
   ]
  },
  {
   "cell_type": "markdown",
   "metadata": {},
   "source": [
    "### ```4.3.0``` Linear Regression - Model Prediction"
   ]
  },
  {
   "cell_type": "code",
   "execution_count": 75,
   "metadata": {},
   "outputs": [
    {
     "data": {
      "text/html": [
       "<div>\n",
       "<style scoped>\n",
       "    .dataframe tbody tr th:only-of-type {\n",
       "        vertical-align: middle;\n",
       "    }\n",
       "\n",
       "    .dataframe tbody tr th {\n",
       "        vertical-align: top;\n",
       "    }\n",
       "\n",
       "    .dataframe thead th {\n",
       "        text-align: right;\n",
       "    }\n",
       "</style>\n",
       "<table border=\"1\" class=\"dataframe\">\n",
       "  <thead>\n",
       "    <tr style=\"text-align: right;\">\n",
       "      <th></th>\n",
       "      <th>PRICE</th>\n",
       "      <th>BEDS</th>\n",
       "      <th>BATHS</th>\n",
       "      <th>SQUARE FEET</th>\n",
       "      <th>ZIP_98012</th>\n",
       "      <th>ZIP_98021</th>\n",
       "      <th>ZIP_98028</th>\n",
       "      <th>ZIP_98036</th>\n",
       "      <th>PREDICTED PRICE</th>\n",
       "    </tr>\n",
       "  </thead>\n",
       "  <tbody>\n",
       "    <tr>\n",
       "      <th>109</th>\n",
       "      <td>994925</td>\n",
       "      <td>5</td>\n",
       "      <td>3.00</td>\n",
       "      <td>3004.0</td>\n",
       "      <td>0</td>\n",
       "      <td>1</td>\n",
       "      <td>0</td>\n",
       "      <td>0</td>\n",
       "      <td>9.328092e+05</td>\n",
       "    </tr>\n",
       "    <tr>\n",
       "      <th>74</th>\n",
       "      <td>849990</td>\n",
       "      <td>3</td>\n",
       "      <td>2.50</td>\n",
       "      <td>2376.0</td>\n",
       "      <td>0</td>\n",
       "      <td>1</td>\n",
       "      <td>0</td>\n",
       "      <td>0</td>\n",
       "      <td>9.001544e+05</td>\n",
       "    </tr>\n",
       "    <tr>\n",
       "      <th>39</th>\n",
       "      <td>989000</td>\n",
       "      <td>4</td>\n",
       "      <td>2.75</td>\n",
       "      <td>3607.0</td>\n",
       "      <td>0</td>\n",
       "      <td>1</td>\n",
       "      <td>0</td>\n",
       "      <td>0</td>\n",
       "      <td>1.240862e+06</td>\n",
       "    </tr>\n",
       "    <tr>\n",
       "      <th>50</th>\n",
       "      <td>1099950</td>\n",
       "      <td>4</td>\n",
       "      <td>2.50</td>\n",
       "      <td>3004.0</td>\n",
       "      <td>0</td>\n",
       "      <td>1</td>\n",
       "      <td>0</td>\n",
       "      <td>0</td>\n",
       "      <td>1.040521e+06</td>\n",
       "    </tr>\n",
       "    <tr>\n",
       "      <th>55</th>\n",
       "      <td>1345990</td>\n",
       "      <td>7</td>\n",
       "      <td>3.75</td>\n",
       "      <td>4438.0</td>\n",
       "      <td>0</td>\n",
       "      <td>1</td>\n",
       "      <td>0</td>\n",
       "      <td>0</td>\n",
       "      <td>1.237614e+06</td>\n",
       "    </tr>\n",
       "  </tbody>\n",
       "</table>\n",
       "</div>"
      ],
      "text/plain": [
       "       PRICE  BEDS  BATHS  SQUARE FEET  ZIP_98012  ZIP_98021  ZIP_98028  \\\n",
       "109   994925     5   3.00       3004.0          0          1          0   \n",
       "74    849990     3   2.50       2376.0          0          1          0   \n",
       "39    989000     4   2.75       3607.0          0          1          0   \n",
       "50   1099950     4   2.50       3004.0          0          1          0   \n",
       "55   1345990     7   3.75       4438.0          0          1          0   \n",
       "\n",
       "     ZIP_98036  PREDICTED PRICE  \n",
       "109          0     9.328092e+05  \n",
       "74           0     9.001544e+05  \n",
       "39           0     1.240862e+06  \n",
       "50           0     1.040521e+06  \n",
       "55           0     1.237614e+06  "
      ]
     },
     "execution_count": 75,
     "metadata": {},
     "output_type": "execute_result"
    }
   ],
   "source": [
    "df_validation['PREDICTED PRICE'] = predict(df_validation,W)\n",
    "df_validation.head()"
   ]
  },
  {
   "cell_type": "markdown",
   "metadata": {},
   "source": [
    "### ```4.4.0``` Linear Regression - Model Validation against ```scikit```\n",
    "\n",
    "* We've finished training our model and running it on validation data, but if we don't have any standard to compare it with then we basically don't know if the model is working as it should\n",
    "\n",
    "* Let's use ```scikit-learn``` on the same data and check if got the correct values for the weights w"
   ]
  },
  {
   "cell_type": "code",
   "execution_count": 76,
   "metadata": {},
   "outputs": [
    {
     "data": {
      "text/plain": [
       "LinearRegression(copy_X=True, fit_intercept=True, n_jobs=None, normalize=False)"
      ]
     },
     "execution_count": 76,
     "metadata": {},
     "output_type": "execute_result"
    }
   ],
   "source": [
    "# cross checking my model against scikit-learn's Linear Regressor\n",
    "\n",
    "regr = linear_model.LinearRegression()\n",
    "regr.fit(df_train.iloc[:,1:].values,df_train.iloc[:,0].values)"
   ]
  },
  {
   "cell_type": "code",
   "execution_count": 77,
   "metadata": {},
   "outputs": [
    {
     "data": {
      "text/html": [
       "<div>\n",
       "<style scoped>\n",
       "    .dataframe tbody tr th:only-of-type {\n",
       "        vertical-align: middle;\n",
       "    }\n",
       "\n",
       "    .dataframe tbody tr th {\n",
       "        vertical-align: top;\n",
       "    }\n",
       "\n",
       "    .dataframe thead th {\n",
       "        text-align: right;\n",
       "    }\n",
       "</style>\n",
       "<table border=\"1\" class=\"dataframe\">\n",
       "  <thead>\n",
       "    <tr style=\"text-align: right;\">\n",
       "      <th></th>\n",
       "      <th>MY WEIGHTS</th>\n",
       "      <th>SCIKIT WEIGHTS</th>\n",
       "    </tr>\n",
       "  </thead>\n",
       "  <tbody>\n",
       "    <tr>\n",
       "      <th>0</th>\n",
       "      <td>-81782.129689</td>\n",
       "      <td>-81782.129689</td>\n",
       "    </tr>\n",
       "    <tr>\n",
       "      <th>1</th>\n",
       "      <td>-51859.982718</td>\n",
       "      <td>-51859.982718</td>\n",
       "    </tr>\n",
       "    <tr>\n",
       "      <th>2</th>\n",
       "      <td>353.740584</td>\n",
       "      <td>353.740584</td>\n",
       "    </tr>\n",
       "    <tr>\n",
       "      <th>3</th>\n",
       "      <td>-211314.738416</td>\n",
       "      <td>-211314.738416</td>\n",
       "    </tr>\n",
       "    <tr>\n",
       "      <th>4</th>\n",
       "      <td>-75952.548373</td>\n",
       "      <td>-75952.548373</td>\n",
       "    </tr>\n",
       "  </tbody>\n",
       "</table>\n",
       "</div>"
      ],
      "text/plain": [
       "      MY WEIGHTS  SCIKIT WEIGHTS\n",
       "0  -81782.129689   -81782.129689\n",
       "1  -51859.982718   -51859.982718\n",
       "2     353.740584      353.740584\n",
       "3 -211314.738416  -211314.738416\n",
       "4  -75952.548373   -75952.548373"
      ]
     },
     "execution_count": 77,
     "metadata": {},
     "output_type": "execute_result"
    }
   ],
   "source": [
    "# comparing feature weights\n",
    "\n",
    "df_weights = pd.DataFrame(W[1:],columns=['MY WEIGHTS'])\n",
    "df_weights['SCIKIT WEIGHTS'] = pd.DataFrame(regr.coef_,columns=['SCIKIT WEIGHTS'])\n",
    "df_weights.head()"
   ]
  },
  {
   "cell_type": "markdown",
   "metadata": {},
   "source": [
    "### ```4.4.1``` Linear Regression - Model Testing"
   ]
  },
  {
   "cell_type": "code",
   "execution_count": 78,
   "metadata": {},
   "outputs": [
    {
     "data": {
      "text/html": [
       "<div>\n",
       "<style scoped>\n",
       "    .dataframe tbody tr th:only-of-type {\n",
       "        vertical-align: middle;\n",
       "    }\n",
       "\n",
       "    .dataframe tbody tr th {\n",
       "        vertical-align: top;\n",
       "    }\n",
       "\n",
       "    .dataframe thead th {\n",
       "        text-align: right;\n",
       "    }\n",
       "</style>\n",
       "<table border=\"1\" class=\"dataframe\">\n",
       "  <thead>\n",
       "    <tr style=\"text-align: right;\">\n",
       "      <th></th>\n",
       "      <th>PRICE</th>\n",
       "      <th>BEDS</th>\n",
       "      <th>BATHS</th>\n",
       "      <th>SQUARE FEET</th>\n",
       "      <th>ZIP_98012</th>\n",
       "      <th>ZIP_98021</th>\n",
       "      <th>ZIP_98028</th>\n",
       "      <th>ZIP_98036</th>\n",
       "      <th>PREDICTED PRICE</th>\n",
       "    </tr>\n",
       "  </thead>\n",
       "  <tbody>\n",
       "    <tr>\n",
       "      <th>67</th>\n",
       "      <td>299500</td>\n",
       "      <td>2</td>\n",
       "      <td>2.0</td>\n",
       "      <td>1152.0</td>\n",
       "      <td>0</td>\n",
       "      <td>0</td>\n",
       "      <td>0</td>\n",
       "      <td>0</td>\n",
       "      <td>6.508406e+05</td>\n",
       "    </tr>\n",
       "    <tr>\n",
       "      <th>114</th>\n",
       "      <td>735000</td>\n",
       "      <td>3</td>\n",
       "      <td>2.0</td>\n",
       "      <td>2300.0</td>\n",
       "      <td>0</td>\n",
       "      <td>0</td>\n",
       "      <td>0</td>\n",
       "      <td>0</td>\n",
       "      <td>9.751526e+05</td>\n",
       "    </tr>\n",
       "    <tr>\n",
       "      <th>113</th>\n",
       "      <td>900000</td>\n",
       "      <td>0</td>\n",
       "      <td>0.0</td>\n",
       "      <td>1653.0</td>\n",
       "      <td>1</td>\n",
       "      <td>0</td>\n",
       "      <td>0</td>\n",
       "      <td>0</td>\n",
       "      <td>8.840341e+05</td>\n",
       "    </tr>\n",
       "    <tr>\n",
       "      <th>57</th>\n",
       "      <td>918800</td>\n",
       "      <td>4</td>\n",
       "      <td>3.5</td>\n",
       "      <td>2000.0</td>\n",
       "      <td>0</td>\n",
       "      <td>0</td>\n",
       "      <td>0</td>\n",
       "      <td>0</td>\n",
       "      <td>7.094584e+05</td>\n",
       "    </tr>\n",
       "    <tr>\n",
       "      <th>73</th>\n",
       "      <td>1221995</td>\n",
       "      <td>4</td>\n",
       "      <td>3.0</td>\n",
       "      <td>3181.0</td>\n",
       "      <td>0</td>\n",
       "      <td>1</td>\n",
       "      <td>0</td>\n",
       "      <td>0</td>\n",
       "      <td>1.077203e+06</td>\n",
       "    </tr>\n",
       "  </tbody>\n",
       "</table>\n",
       "</div>"
      ],
      "text/plain": [
       "       PRICE  BEDS  BATHS  SQUARE FEET  ZIP_98012  ZIP_98021  ZIP_98028  \\\n",
       "67    299500     2    2.0       1152.0          0          0          0   \n",
       "114   735000     3    2.0       2300.0          0          0          0   \n",
       "113   900000     0    0.0       1653.0          1          0          0   \n",
       "57    918800     4    3.5       2000.0          0          0          0   \n",
       "73   1221995     4    3.0       3181.0          0          1          0   \n",
       "\n",
       "     ZIP_98036  PREDICTED PRICE  \n",
       "67           0     6.508406e+05  \n",
       "114          0     9.751526e+05  \n",
       "113          0     8.840341e+05  \n",
       "57           0     7.094584e+05  \n",
       "73           0     1.077203e+06  "
      ]
     },
     "execution_count": 78,
     "metadata": {},
     "output_type": "execute_result"
    }
   ],
   "source": [
    "df_test['PREDICTED PRICE'] = predict(df_test,W)\n",
    "df_test.head()"
   ]
  },
  {
   "cell_type": "markdown",
   "metadata": {},
   "source": [
    "### ```5.1.0``` Model Results\n",
    "\n",
    "* We've finished training, validating and testing out model - let's now actually graphically see our results\n",
    "* We're gonna plot the numerical features against ```PRICE``` and actually compare it with the ```PREDICTED PRICE``` that was our prediction\n",
    "* You can't really draw a line in 2D based off one feature - because the model takes in data points that have all the features and then outputs a price prediction\n",
    "* However you can see a clear trend amongst the predictions which actually approximates an ```n-dimensional regression line```\n",
    "* Let's see some colorful graphs now\n"
   ]
  },
  {
   "cell_type": "code",
   "execution_count": 79,
   "metadata": {},
   "outputs": [
    {
     "data": {
      "image/png": "[encoded data removed]",
      "text/plain": [
       "<Figure size 432x288 with 1 Axes>"
      ]
     },
     "metadata": {
      "needs_background": "light"
     },
     "output_type": "display_data"
    },
    {
     "data": {
      "image/png": "[encoded data removed]",
      "text/plain": [
       "<Figure size 432x288 with 1 Axes>"
      ]
     },
     "metadata": {
      "needs_background": "light"
     },
     "output_type": "display_data"
    }
   ],
   "source": [
    "# plotting features vs price comparision graphs\n",
    "\n",
    "plot(df_test,'SQUARE FEET')\n",
    "plot(df_test,'BEDS')"
   ]
  },
  {
   "cell_type": "markdown",
   "metadata": {},
   "source": [
    "### ```5.2.0``` Model Performance and comparision\n",
    "\n",
    "* We can't really give an accuracy score for this model - because it is a regression based model, and talking about accuracy scores makes sense only in classification problems\n",
    "* $R_{ss}$ is the sum squared regression error calculated as $R_{ss} = \\sum(y_{i} - y_{regression})^2$\n",
    "* $T_{ss}$ is the sum squared total error calculated as below $T_{ss} = \\sum(y_{i} - \\overline{y})^2$\n",
    "* However we can estimate the $R^2$ score of the model which is calculated as below\n",
    "* $R^2 = 1 - \\dfrac{R_{ss}}{T_{ss}}$\n"
   ]
  },
  {
   "cell_type": "code",
   "execution_count": 80,
   "metadata": {},
   "outputs": [
    {
     "data": {
      "text/html": [
       "<div>\n",
       "<style scoped>\n",
       "    .dataframe tbody tr th:only-of-type {\n",
       "        vertical-align: middle;\n",
       "    }\n",
       "\n",
       "    .dataframe tbody tr th {\n",
       "        vertical-align: top;\n",
       "    }\n",
       "\n",
       "    .dataframe thead th {\n",
       "        text-align: right;\n",
       "    }\n",
       "</style>\n",
       "<table border=\"1\" class=\"dataframe\">\n",
       "  <thead>\n",
       "    <tr style=\"text-align: right;\">\n",
       "      <th></th>\n",
       "      <th>PRICE</th>\n",
       "      <th>BEDS</th>\n",
       "      <th>BATHS</th>\n",
       "      <th>SQUARE FEET</th>\n",
       "      <th>ZIP_98012</th>\n",
       "      <th>ZIP_98021</th>\n",
       "      <th>ZIP_98028</th>\n",
       "      <th>ZIP_98036</th>\n",
       "      <th>PREDICTED PRICE</th>\n",
       "    </tr>\n",
       "  </thead>\n",
       "  <tbody>\n",
       "    <tr>\n",
       "      <th>67</th>\n",
       "      <td>299500</td>\n",
       "      <td>2</td>\n",
       "      <td>2.0</td>\n",
       "      <td>1152.0</td>\n",
       "      <td>0</td>\n",
       "      <td>0</td>\n",
       "      <td>0</td>\n",
       "      <td>0</td>\n",
       "      <td>6.508406e+05</td>\n",
       "    </tr>\n",
       "    <tr>\n",
       "      <th>114</th>\n",
       "      <td>735000</td>\n",
       "      <td>3</td>\n",
       "      <td>2.0</td>\n",
       "      <td>2300.0</td>\n",
       "      <td>0</td>\n",
       "      <td>0</td>\n",
       "      <td>0</td>\n",
       "      <td>0</td>\n",
       "      <td>9.751526e+05</td>\n",
       "    </tr>\n",
       "    <tr>\n",
       "      <th>113</th>\n",
       "      <td>900000</td>\n",
       "      <td>0</td>\n",
       "      <td>0.0</td>\n",
       "      <td>1653.0</td>\n",
       "      <td>1</td>\n",
       "      <td>0</td>\n",
       "      <td>0</td>\n",
       "      <td>0</td>\n",
       "      <td>8.840341e+05</td>\n",
       "    </tr>\n",
       "    <tr>\n",
       "      <th>57</th>\n",
       "      <td>918800</td>\n",
       "      <td>4</td>\n",
       "      <td>3.5</td>\n",
       "      <td>2000.0</td>\n",
       "      <td>0</td>\n",
       "      <td>0</td>\n",
       "      <td>0</td>\n",
       "      <td>0</td>\n",
       "      <td>7.094584e+05</td>\n",
       "    </tr>\n",
       "    <tr>\n",
       "      <th>73</th>\n",
       "      <td>1221995</td>\n",
       "      <td>4</td>\n",
       "      <td>3.0</td>\n",
       "      <td>3181.0</td>\n",
       "      <td>0</td>\n",
       "      <td>1</td>\n",
       "      <td>0</td>\n",
       "      <td>0</td>\n",
       "      <td>1.077203e+06</td>\n",
       "    </tr>\n",
       "  </tbody>\n",
       "</table>\n",
       "</div>"
      ],
      "text/plain": [
       "       PRICE  BEDS  BATHS  SQUARE FEET  ZIP_98012  ZIP_98021  ZIP_98028  \\\n",
       "67    299500     2    2.0       1152.0          0          0          0   \n",
       "114   735000     3    2.0       2300.0          0          0          0   \n",
       "113   900000     0    0.0       1653.0          1          0          0   \n",
       "57    918800     4    3.5       2000.0          0          0          0   \n",
       "73   1221995     4    3.0       3181.0          0          1          0   \n",
       "\n",
       "     ZIP_98036  PREDICTED PRICE  \n",
       "67           0     6.508406e+05  \n",
       "114          0     9.751526e+05  \n",
       "113          0     8.840341e+05  \n",
       "57           0     7.094584e+05  \n",
       "73           0     1.077203e+06  "
      ]
     },
     "execution_count": 80,
     "metadata": {},
     "output_type": "execute_result"
    }
   ],
   "source": [
    "df_test.head()"
   ]
  },
  {
   "cell_type": "code",
   "execution_count": 81,
   "metadata": {},
   "outputs": [
    {
     "data": {
      "text/html": [
       "<div>\n",
       "<style scoped>\n",
       "    .dataframe tbody tr th:only-of-type {\n",
       "        vertical-align: middle;\n",
       "    }\n",
       "\n",
       "    .dataframe tbody tr th {\n",
       "        vertical-align: top;\n",
       "    }\n",
       "\n",
       "    .dataframe thead th {\n",
       "        text-align: right;\n",
       "    }\n",
       "</style>\n",
       "<table border=\"1\" class=\"dataframe\">\n",
       "  <thead>\n",
       "    <tr style=\"text-align: right;\">\n",
       "      <th></th>\n",
       "      <th>MY R2 SCORE</th>\n",
       "      <th>SCIKIT R2 SCORE</th>\n",
       "    </tr>\n",
       "  </thead>\n",
       "  <tbody>\n",
       "    <tr>\n",
       "      <th>0</th>\n",
       "      <td>0.631289</td>\n",
       "      <td>0.631289</td>\n",
       "    </tr>\n",
       "  </tbody>\n",
       "</table>\n",
       "</div>"
      ],
      "text/plain": [
       "   MY R2 SCORE  SCIKIT R2 SCORE\n",
       "0     0.631289         0.631289"
      ]
     },
     "execution_count": 81,
     "metadata": {},
     "output_type": "execute_result"
    }
   ],
   "source": [
    "# comparing r2 scores of my model vs scikit learn\n",
    "\n",
    "my_r2 = r2_score(df_validation.iloc[:,0],regr.predict(df_validation.iloc[:,1:8]))\n",
    "scikit_r2 = r2_score(df_validation.iloc[:,0],predict(df_validation,W))\n",
    "df_r2 = pd.DataFrame([[my_r2,scikit_r2]],columns=['MY R2 SCORE','SCIKIT R2 SCORE'])\n",
    "df_r2.head()"
   ]
  },
  {
   "cell_type": "markdown",
   "metadata": {},
   "source": [
    "Data sourced from - [Redfin - Homes in Bothell](https://www.redfin.com/stingray/api/gis-csv?al=1&market=seattle&min_stories=1&num_homes=350&ord=redfin-recommended-asc&page_number=1&poly=-122.36995%2047.64316%2C-122.0876%2047.64316%2C-122.0876%2047.77281%2C-122.36995%2047.77281%2C-122.36995%2047.64316&region_id=29439&region_type=6&sf=1,2,3,5,6,7&status=1&uipt=1,2,3,4,5,6&v=8)"
   ]
  }
 ],
 "metadata": {
  "kernelspec": {
   "display_name": "Python 3",
   "language": "python",
   "name": "python3"
  },
  "language_info": {
   "codemirror_mode": {
    "name": "ipython",
    "version": 3
   },
   "file_extension": ".py",
   "mimetype": "text/x-python",
   "name": "python",
   "nbconvert_exporter": "python",
   "pygments_lexer": "ipython3",
   "version": "3.7.6"
  }
 },
 "nbformat": 4,
 "nbformat_minor": 4
}
