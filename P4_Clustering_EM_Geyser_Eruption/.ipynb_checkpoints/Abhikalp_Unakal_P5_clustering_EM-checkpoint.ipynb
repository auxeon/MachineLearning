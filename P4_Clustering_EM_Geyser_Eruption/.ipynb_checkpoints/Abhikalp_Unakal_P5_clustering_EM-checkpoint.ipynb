{
 "cells": [
  {
   "cell_type": "code",
   "execution_count": 103,
   "metadata": {},
   "outputs": [],
   "source": [
    "# import stuff\n",
    "import copy\n",
    "import pandas as pd\n",
    "import numpy as np\n",
    "from collections import defaultdict\n",
    "from scipy.stats import norm\n",
    "import matplotlib.pyplot as plt\n",
    "from matplotlib.lines import Line2D\n",
    "from sklearn.linear_model import LogisticRegression\n",
    "from sklearn.metrics import accuracy_score\n",
    "from sklearn.model_selection import train_test_split"
   ]
  },
  {
   "cell_type": "code",
   "execution_count": 2,
   "metadata": {},
   "outputs": [],
   "source": [
    "# read csv\n",
    "df = pd.read_csv (r'data/oldfaithful.csv')"
   ]
  },
  {
   "cell_type": "code",
   "execution_count": 3,
   "metadata": {},
   "outputs": [],
   "source": [
    "# train test split data\n",
    "# df_train, df_test = train_test_split(df, test_size=0.08)"
   ]
  },
  {
   "cell_type": "code",
   "execution_count": 4,
   "metadata": {},
   "outputs": [],
   "source": [
    "df_train = df[:250]"
   ]
  },
  {
   "cell_type": "code",
   "execution_count": 6,
   "metadata": {},
   "outputs": [
    {
     "data": {
      "text/plain": [
       "[<matplotlib.lines.Line2D at 0x7f9be00c61d0>]"
      ]
     },
     "execution_count": 6,
     "metadata": {},
     "output_type": "execute_result"
    },
    {
     "data": {
      "image/png": "[encoded data removed]",
      "text/plain": [
       "<Figure size 432x288 with 1 Axes>"
      ]
     },
     "metadata": {
      "needs_background": "light"
     },
     "output_type": "display_data"
    }
   ],
   "source": [
    "# visualizing the training data\n",
    "# clearly 2 separate clusters needed\n",
    "plt.plot(df_train['duration'],df_train['waiting'],'b+')"
   ]
  },
  {
   "cell_type": "code",
   "execution_count": 106,
   "metadata": {},
   "outputs": [],
   "source": [
    "# helper functions\n",
    "def train_em(x,k = 2,max_iter=100):\n",
    "\n",
    "    n = x.shape[0]\n",
    "    phi = np.random.rand(k,1)\n",
    "    # normalize summation(phi) = 1\n",
    "    phi = phi/np.sum(phi)\n",
    "    u = np.random.rand(k,1)\n",
    "    sigma = np.random.rand(k,1)    \n",
    "    w = np.ndarray(shape=(n,k))\n",
    "    prev = np.ndarray(shape=(1))\n",
    "    n_iter = 0\n",
    "    done_flag = False\n",
    "    \n",
    "   # E step wij\n",
    "    while(n_iter < max_iter and done_flag != True):\n",
    "#         print(\"iteration : \",n_iter)\n",
    "        p_tot = np.zeros((n,1,1))\n",
    "        p = np.zeros((n,k,1))\n",
    "        \n",
    "        for i in range(n):\n",
    "            for j in range(k):\n",
    "                diffsq = - ( (x[i] - u[j]).T * (x[i] - u[j]) )\n",
    "                sigsq = 2 * sigma[j]**2\n",
    "                t1 = np.exp( diffsq / sigsq )\n",
    "                const = 1 / ( (2*np.pi)**(1/2) * sigma[j] )\n",
    "                p[i][j] = ( const * t1 * phi[j] )\n",
    "                p_tot[i] += p[i][j]\n",
    "\n",
    "        prev = copy.deepcopy(w)\n",
    "        for i in range(n):\n",
    "                for j in range(k):\n",
    "                    w[i][j] = p[i][j] / p_tot[i]\n",
    "        \n",
    "        # M step   \n",
    "        for j in range(k):\n",
    "            wij_xjuj = 1\n",
    "            wij_xj = 1\n",
    "            wij = 2\n",
    "\n",
    "            for i in range(n):\n",
    "                wij_xj +=  w[i][j] * x[i]\n",
    "                wij += w[i][j]\n",
    "\n",
    "            # mean\n",
    "            u[j] = wij_xj / wij\n",
    "            \n",
    "            for i in range(n):\n",
    "                wij_xjuj += w[i][j] * (x[i]-u[j])**2   \n",
    "            # std\n",
    "            sigma[j] = ( wij_xjuj / wij )**0.5\n",
    "                \n",
    "            # phi\n",
    "            phi[j] = wij / n\n",
    "            \n",
    "        \n",
    "        if (prev == w).all():\n",
    "            done_flag = True    \n",
    "            \n",
    "        n_iter+=1\n",
    "    return u, sigma, phi, w\n",
    "\n",
    "\n",
    "def predict_em(data,):\n",
    "    pass\n",
    "    \n",
    "def clusterize(w):\n",
    "    l0 = []\n",
    "    l1 = []\n",
    "    for i in range(w.shape[0]):\n",
    "            if w[i][1] > w[i][0]:\n",
    "                l0.append(i)\n",
    "            else:\n",
    "                l1.append(i)\n",
    "    return [l0,l1]\n",
    "\n",
    "def plot_cluster(data,cluster):\n",
    "    for row in range(0, len(data)):\n",
    "        xy = data.iloc[[row]]\n",
    "        if row in cluster[0]:\n",
    "            plt.plot(xy[\"duration\"],xy[\"waiting\"], '.',color='xkcd:orange')\n",
    "        else:\n",
    "            plt.plot(xy[\"duration\"],xy[\"waiting\"], '.',color='xkcd:azure')\n",
    "    plt.xlabel('DURATION')\n",
    "    plt.ylabel('WAITING')\n",
    "    \n",
    "    legend_elements = [Line2D([0], [0], marker='o', color='w', label='CLUSTER_1',\n",
    "                          markerfacecolor='xkcd:azure', markersize=10),\n",
    "                       Line2D([0], [0], marker='o', color='w', label='CLUSTER_0',\n",
    "                          markerfacecolor='xkcd:orange', markersize=10)\n",
    "                       ]\n",
    "\n",
    "    # Create the figure\n",
    "    plt.legend(handles=legend_elements, loc='best')\n",
    "    plt.show()\n",
    "            "
   ]
  },
  {
   "cell_type": "code",
   "execution_count": 97,
   "metadata": {},
   "outputs": [
    {
     "name": "stdout",
     "output_type": "stream",
     "text": [
      "iteration :  0\n",
      "iteration :  1\n",
      "iteration :  2\n",
      "iteration :  3\n",
      "iteration :  4\n",
      "iteration :  5\n",
      "iteration :  6\n",
      "iteration :  7\n",
      "iteration :  8\n",
      "iteration :  9\n",
      "iteration :  10\n",
      "iteration :  11\n",
      "iteration :  12\n",
      "iteration :  13\n",
      "iteration :  14\n",
      "iteration :  15\n",
      "iteration :  16\n",
      "iteration :  17\n",
      "iteration :  18\n",
      "iteration :  19\n",
      "iteration :  20\n",
      "iteration :  21\n",
      "iteration :  22\n",
      "iteration :  23\n",
      "iteration :  24\n",
      "iteration :  25\n",
      "iteration :  26\n",
      "iteration :  27\n",
      "iteration :  28\n",
      "iteration :  29\n",
      "iteration :  30\n",
      "iteration :  31\n",
      "iteration :  32\n",
      "iteration :  33\n",
      "iteration :  34\n",
      "iteration :  35\n",
      "iteration :  36\n",
      "iteration :  37\n",
      "iteration :  38\n",
      "iteration :  39\n",
      "iteration :  40\n",
      "iteration :  41\n",
      "iteration :  42\n",
      "iteration :  43\n",
      "iteration :  44\n",
      "iteration :  45\n",
      "iteration :  46\n",
      "iteration :  47\n",
      "iteration :  48\n",
      "iteration :  49\n",
      "iteration :  50\n",
      "iteration :  51\n",
      "iteration :  52\n",
      "iteration :  53\n",
      "iteration :  54\n",
      "iteration :  55\n",
      "iteration :  56\n",
      "iteration :  57\n",
      "iteration :  58\n",
      "iteration :  59\n",
      "iteration :  60\n",
      "iteration :  61\n",
      "iteration :  62\n",
      "iteration :  63\n",
      "iteration :  64\n",
      "iteration :  65\n",
      "iteration :  66\n",
      "iteration :  67\n",
      "iteration :  68\n"
     ]
    }
   ],
   "source": [
    "# train\n",
    "u, sigma, phi, w = train_em(df_train[['duration']].values)"
   ]
  },
  {
   "cell_type": "code",
   "execution_count": 107,
   "metadata": {},
   "outputs": [
    {
     "data": {
      "image/png": "[encoded data removed]",
      "text/plain": [
       "<Figure size 432x288 with 1 Axes>"
      ]
     },
     "metadata": {
      "needs_background": "light"
     },
     "output_type": "display_data"
    }
   ],
   "source": [
    "c = clusterize(w)\n",
    "plot_cluster(df_train,c)"
   ]
  }
 ],
 "metadata": {
  "kernelspec": {
   "display_name": "Python 3",
   "language": "python",
   "name": "python3"
  },
  "language_info": {
   "codemirror_mode": {
    "name": "ipython",
    "version": 3
   },
   "file_extension": ".py",
   "mimetype": "text/x-python",
   "name": "python",
   "nbconvert_exporter": "python",
   "pygments_lexer": "ipython3",
   "version": "3.7.6"
  }
 },
 "nbformat": 4,
 "nbformat_minor": 4
}
