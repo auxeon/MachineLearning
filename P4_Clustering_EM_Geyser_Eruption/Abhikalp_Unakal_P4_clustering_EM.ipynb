{
 "cells": [
  {
   "cell_type": "markdown",
   "metadata": {},
   "source": [
    "# Clustering - Expectation Maximization - predict geyser eruption times\n",
    "------------------------------------------------------------------------"
   ]
  },
  {
   "cell_type": "markdown",
   "metadata": {},
   "source": [
    "### ```1.1.0``` Import Packages"
   ]
  },
  {
   "cell_type": "code",
   "execution_count": 1,
   "metadata": {},
   "outputs": [],
   "source": [
    "# import stuff\n",
    "import copy\n",
    "import pandas as pd\n",
    "import numpy as np\n",
    "from collections import defaultdict\n",
    "from scipy.stats import norm\n",
    "import matplotlib.pyplot as plt\n",
    "from matplotlib.lines import Line2D\n",
    "from sklearn.linear_model import LogisticRegression\n",
    "from sklearn.metrics import accuracy_score\n",
    "from sklearn.model_selection import train_test_split\n",
    "from sklearn.metrics import explained_variance_score,r2_score"
   ]
  },
  {
   "cell_type": "markdown",
   "metadata": {},
   "source": [
    "### ```2.1.0``` Reading in data and processing"
   ]
  },
  {
   "cell_type": "code",
   "execution_count": 2,
   "metadata": {},
   "outputs": [],
   "source": [
    "# read csv\n",
    "df = pd.read_csv (r'data/oldfaithful.csv')"
   ]
  },
  {
   "cell_type": "markdown",
   "metadata": {},
   "source": [
    "### ```2.1.1``` Splitting data set into test and train "
   ]
  },
  {
   "cell_type": "code",
   "execution_count": 3,
   "metadata": {},
   "outputs": [],
   "source": [
    "# train test split data\n",
    "df_train, df_test = train_test_split(df, test_size=0.08)"
   ]
  },
  {
   "cell_type": "code",
   "execution_count": 4,
   "metadata": {},
   "outputs": [
    {
     "data": {
      "text/plain": [
       "(250, 3)"
      ]
     },
     "execution_count": 4,
     "metadata": {},
     "output_type": "execute_result"
    }
   ],
   "source": [
    "# 250 samples in training \n",
    "df_train.shape"
   ]
  },
  {
   "cell_type": "code",
   "execution_count": 5,
   "metadata": {},
   "outputs": [
    {
     "data": {
      "text/html": [
       "<div>\n",
       "<style scoped>\n",
       "    .dataframe tbody tr th:only-of-type {\n",
       "        vertical-align: middle;\n",
       "    }\n",
       "\n",
       "    .dataframe tbody tr th {\n",
       "        vertical-align: top;\n",
       "    }\n",
       "\n",
       "    .dataframe thead th {\n",
       "        text-align: right;\n",
       "    }\n",
       "</style>\n",
       "<table border=\"1\" class=\"dataframe\">\n",
       "  <thead>\n",
       "    <tr style=\"text-align: right;\">\n",
       "      <th></th>\n",
       "      <th>No</th>\n",
       "      <th>duration</th>\n",
       "      <th>waiting</th>\n",
       "    </tr>\n",
       "  </thead>\n",
       "  <tbody>\n",
       "    <tr>\n",
       "      <th>96</th>\n",
       "      <td>97</td>\n",
       "      <td>4.667</td>\n",
       "      <td>84</td>\n",
       "    </tr>\n",
       "    <tr>\n",
       "      <th>134</th>\n",
       "      <td>135</td>\n",
       "      <td>1.833</td>\n",
       "      <td>46</td>\n",
       "    </tr>\n",
       "    <tr>\n",
       "      <th>225</th>\n",
       "      <td>226</td>\n",
       "      <td>4.117</td>\n",
       "      <td>79</td>\n",
       "    </tr>\n",
       "    <tr>\n",
       "      <th>56</th>\n",
       "      <td>57</td>\n",
       "      <td>3.717</td>\n",
       "      <td>71</td>\n",
       "    </tr>\n",
       "    <tr>\n",
       "      <th>179</th>\n",
       "      <td>180</td>\n",
       "      <td>4.167</td>\n",
       "      <td>74</td>\n",
       "    </tr>\n",
       "    <tr>\n",
       "      <th>...</th>\n",
       "      <td>...</td>\n",
       "      <td>...</td>\n",
       "      <td>...</td>\n",
       "    </tr>\n",
       "    <tr>\n",
       "      <th>255</th>\n",
       "      <td>256</td>\n",
       "      <td>3.817</td>\n",
       "      <td>80</td>\n",
       "    </tr>\n",
       "    <tr>\n",
       "      <th>67</th>\n",
       "      <td>68</td>\n",
       "      <td>4.700</td>\n",
       "      <td>78</td>\n",
       "    </tr>\n",
       "    <tr>\n",
       "      <th>130</th>\n",
       "      <td>131</td>\n",
       "      <td>1.867</td>\n",
       "      <td>45</td>\n",
       "    </tr>\n",
       "    <tr>\n",
       "      <th>167</th>\n",
       "      <td>168</td>\n",
       "      <td>5.000</td>\n",
       "      <td>88</td>\n",
       "    </tr>\n",
       "    <tr>\n",
       "      <th>17</th>\n",
       "      <td>18</td>\n",
       "      <td>4.800</td>\n",
       "      <td>84</td>\n",
       "    </tr>\n",
       "  </tbody>\n",
       "</table>\n",
       "<p>250 rows × 3 columns</p>\n",
       "</div>"
      ],
      "text/plain": [
       "      No  duration  waiting\n",
       "96    97     4.667       84\n",
       "134  135     1.833       46\n",
       "225  226     4.117       79\n",
       "56    57     3.717       71\n",
       "179  180     4.167       74\n",
       "..   ...       ...      ...\n",
       "255  256     3.817       80\n",
       "67    68     4.700       78\n",
       "130  131     1.867       45\n",
       "167  168     5.000       88\n",
       "17    18     4.800       84\n",
       "\n",
       "[250 rows x 3 columns]"
      ]
     },
     "execution_count": 5,
     "metadata": {},
     "output_type": "execute_result"
    }
   ],
   "source": [
    "# df_train\n",
    "df_train"
   ]
  },
  {
   "cell_type": "markdown",
   "metadata": {},
   "source": [
    "### ```3.1.0``` Visualizing the raw data"
   ]
  },
  {
   "cell_type": "code",
   "execution_count": 6,
   "metadata": {},
   "outputs": [
    {
     "data": {
      "image/png": "[encoded data removed]",
      "text/plain": [
       "<Figure size 432x288 with 1 Axes>"
      ]
     },
     "metadata": {
      "needs_background": "light"
     },
     "output_type": "display_data"
    }
   ],
   "source": [
    "# visualizing the training data\n",
    "# clearly 2 separate clusters needed\n",
    "plt.plot(df_train['duration'],df_train['waiting'],'.',color='xkcd:azure')\n",
    "plt.xlabel('ERUPTION DURATION')\n",
    "plt.ylabel('WAITING TIME')\n",
    "plt.show()"
   ]
  },
  {
   "cell_type": "markdown",
   "metadata": {},
   "source": [
    "### ```4.1.0``` Expectation Maximization and Linear Regression"
   ]
  },
  {
   "cell_type": "code",
   "execution_count": 7,
   "metadata": {},
   "outputs": [],
   "source": [
    "# helper functions\n",
    "def train_em(x,k = 2,max_iter=100):\n",
    "\n",
    "    n = x.shape[0]\n",
    "    phi = np.random.rand(k,1)\n",
    "    # normalize summation(phi) = 1\n",
    "    phi = phi/np.sum(phi)\n",
    "    u = np.random.rand(k,1)\n",
    "    sigma = np.random.rand(k,1)    \n",
    "    w = np.ndarray(shape=(n,k))\n",
    "    prev = np.ndarray(shape=(1))\n",
    "    n_iter = 0\n",
    "    done_flag = False\n",
    "    \n",
    "   # E step wij\n",
    "    while(n_iter < max_iter and done_flag != True):\n",
    "        \n",
    "        p_tot = np.zeros((n,1,1))\n",
    "        p = np.zeros((n,k,1))\n",
    "        \n",
    "        for i in range(n):\n",
    "            for j in range(k):\n",
    "                e_term = np.exp(- ( (x[i] - u[j]).T * (x[i] - u[j]) ) / (2 * sigma[j]**2))\n",
    "                const_term = 1 / ( (2*np.pi)**(1/2) * sigma[j] )\n",
    "                p[i][j] = ( const_term * e_term * phi[j] )\n",
    "                p_tot[i] += p[i][j]\n",
    "\n",
    "        prev = copy.deepcopy(w)\n",
    "        for i in range(n):\n",
    "                for j in range(k):\n",
    "                    w[i][j] = p[i][j] / p_tot[i]\n",
    "        \n",
    "        # M step   \n",
    "        for j in range(k):\n",
    "            wij_xjuj = 1\n",
    "            wij_xj = 1\n",
    "            wij = 1\n",
    "\n",
    "            for i in range(n):\n",
    "                wij_xj +=  w[i][j] * x[i]\n",
    "                wij += w[i][j]\n",
    "\n",
    "            # mean\n",
    "            u[j] = wij_xj / wij\n",
    "            \n",
    "            for i in range(n):\n",
    "                wij_xjuj += w[i][j] * (x[i]-u[j])**2   \n",
    "            # std\n",
    "            sigma[j] = ( wij_xjuj / wij )**(1/2)\n",
    "                \n",
    "            # phi\n",
    "            phi[j] = wij / n\n",
    "            \n",
    "        \n",
    "        if (prev == w).all():\n",
    "            done_flag = True    \n",
    "            \n",
    "        n_iter+=1\n",
    "    return u, sigma, phi, w\n",
    "\n",
    "\n",
    "def predict_em_wij(x,u,sigma,phi,k=2):\n",
    "    n = x.shape[0]\n",
    "    w = np.ndarray(shape=(n,k))\n",
    "    p_tot = np.zeros((n,1,1))\n",
    "    p = np.zeros((n,k,1))    \n",
    "    for i in range(n):\n",
    "        for j in range(k):\n",
    "            e_term = np.exp(- ( (x[i] - u[j]).T * (x[i] - u[j]) ) / (2 * sigma[j]**2))\n",
    "            const_term = 1 / ( (2*np.pi)**(1/2) * sigma[j] )\n",
    "            p[i][j] = ( const_term * e_term * phi[j] )\n",
    "            p_tot[i] += p[i][j]\n",
    "    prev = copy.deepcopy(w)\n",
    "    for i in range(n):\n",
    "        for j in range(k):\n",
    "            w[i][j] = p[i][j] / p_tot[i]\n",
    "    return w\n",
    "    \n",
    "def clusterize(w):\n",
    "    l0 = []\n",
    "    l1 = []\n",
    "    for i in range(w.shape[0]):\n",
    "            if w[i][1] > w[i][0]:\n",
    "                l0.append(i)\n",
    "            else:\n",
    "                l1.append(i)\n",
    "    return [l0,l1]\n",
    "\n",
    "def plot_cluster(data,cluster):\n",
    "    for row in range(0, len(data)):\n",
    "        xy = data.iloc[[row]]\n",
    "        if row in cluster[0]:\n",
    "            plt.plot(xy[\"duration\"],xy[\"waiting\"], '.',color='xkcd:orange')\n",
    "        else:\n",
    "            plt.plot(xy[\"duration\"],xy[\"waiting\"], '.',color='xkcd:azure')\n",
    "    plt.xlabel('ERUPTION DURATION')\n",
    "    plt.ylabel('WAITING TIME')\n",
    "    \n",
    "    legend_elements = [Line2D([0], [0], marker='o', color='w', label='CLUSTER_0',\n",
    "                          markerfacecolor='xkcd:azure', markersize=10),\n",
    "                       Line2D([0], [0], marker='o', color='w', label='CLUSTER_1',\n",
    "                          markerfacecolor='xkcd:orange', markersize=10)\n",
    "                       ]\n",
    "\n",
    "    # Create the figure\n",
    "    plt.legend(handles=legend_elements, loc='best')\n",
    "    plt.show()\n",
    "\n",
    "# predcit waiting time depending on cluster\n",
    "def train_linear(df,x_loc,y_loc,num_features,epsilon):\n",
    "    column = np.full(df.shape[0],1.0)\n",
    "    mat_xy = df.to_numpy()\n",
    "    X = mat_xy[:,x_loc:num_features+1]\n",
    "    X = np.insert(X,x_loc,column,axis=1)  #accounting for w0\n",
    "    Y = mat_xy[:,y_loc]\n",
    "    W = np.linalg.inv(X.T.dot(X) + epsilon*np.identity(X.shape[1])).dot(X.T).dot(Y)\n",
    "    return W\n",
    "\n",
    "def predict_linear(df,x_loc,w):\n",
    "    column = np.full(df.shape[0],1.0)\n",
    "    mat_xy = df.to_numpy()\n",
    "    mat_xy = np.insert(mat_xy,1,column,axis=1)  #accounting for w0\n",
    "    return mat_xy[:,x_loc:(len(w)+1)].dot(w)"
   ]
  },
  {
   "cell_type": "markdown",
   "metadata": {},
   "source": [
    "### ```5.1.0``` Training the EM model"
   ]
  },
  {
   "cell_type": "code",
   "execution_count": 8,
   "metadata": {},
   "outputs": [],
   "source": [
    "# train\n",
    "u, sigma, phi, w = train_em(df_train[['duration']].values)"
   ]
  },
  {
   "cell_type": "markdown",
   "metadata": {},
   "source": [
    "### ```5.2.0``` Training - Separating clusters based on trained model"
   ]
  },
  {
   "cell_type": "code",
   "execution_count": 9,
   "metadata": {},
   "outputs": [
    {
     "data": {
      "image/png": "[encoded data removed]",
      "text/plain": [
       "<Figure size 432x288 with 1 Axes>"
      ]
     },
     "metadata": {
      "needs_background": "light"
     },
     "output_type": "display_data"
    }
   ],
   "source": [
    "# predict cluster\n",
    "clusters = clusterize(w)\n",
    "plot_cluster(df_train,clusters)"
   ]
  },
  {
   "cell_type": "code",
   "execution_count": 10,
   "metadata": {},
   "outputs": [],
   "source": [
    "# split clusters\n",
    "cluster_0 = df_train.loc[ df_train[\"No\"].isin( clusters[0] ) ]\n",
    "cluster_1 = df_train.loc[ df_train[\"No\"].isin( clusters[1] ) ]"
   ]
  },
  {
   "cell_type": "markdown",
   "metadata": {},
   "source": [
    "### ```6.1.0``` Fit Regression Models to each individual cluster"
   ]
  },
  {
   "cell_type": "code",
   "execution_count": 11,
   "metadata": {},
   "outputs": [],
   "source": [
    "# fit regression lines to both clusters\n",
    "w_0 = train_linear(cluster_0,1,2,1,0.0000000000000000000001)\n",
    "w_1 = train_linear(cluster_1,1,2,1,0.0000000000000000000001)"
   ]
  },
  {
   "cell_type": "code",
   "execution_count": 12,
   "metadata": {},
   "outputs": [
    {
     "name": "stdout",
     "output_type": "stream",
     "text": [
      "[ 9.96293903 35.46832624]\n",
      "[10.9833719  33.24219076]\n"
     ]
    }
   ],
   "source": [
    "# regression weights\n",
    "print(w_0)\n",
    "print(w_1)"
   ]
  },
  {
   "cell_type": "markdown",
   "metadata": {},
   "source": [
    "### ```7.1.0``` Test Data - Clusterize and fit regression"
   ]
  },
  {
   "cell_type": "code",
   "execution_count": 13,
   "metadata": {},
   "outputs": [
    {
     "data": {
      "image/png": "[encoded data removed]",
      "text/plain": [
       "<Figure size 432x288 with 1 Axes>"
      ]
     },
     "metadata": {
      "needs_background": "light"
     },
     "output_type": "display_data"
    }
   ],
   "source": [
    "# test data clusters\n",
    "test_wij = predict_em_wij(df_test[['duration']].values, u, sigma, phi)\n",
    "test_clusters  = clusterize(test_wij)\n",
    "\n",
    "predicted_y = np.ndarray((df_test.shape[0], 1))\n",
    "\n",
    "for row in range(df_test.shape[0]):\n",
    "    temp = df_test['duration'].iloc[row]\n",
    "    if row in test_clusters[0]:\n",
    "        predicted_y[row] = temp*w_0[0] + w_0[1]\n",
    "    else:\n",
    "        predicted_y[row] = temp*w_1[0] + w_0[1]\n",
    "        \n",
    "plot_cluster(df_test,test_clusters)"
   ]
  },
  {
   "cell_type": "markdown",
   "metadata": {},
   "source": [
    "### ```7.2.0``` Test Data - Visualizing results"
   ]
  },
  {
   "cell_type": "code",
   "execution_count": 14,
   "metadata": {},
   "outputs": [
    {
     "data": {
      "image/png": "[encoded data removed]",
      "text/plain": [
       "<Figure size 432x288 with 1 Axes>"
      ]
     },
     "metadata": {
      "needs_background": "light"
     },
     "output_type": "display_data"
    }
   ],
   "source": [
    "# predicted vs actual results\n",
    "plt.plot(df_test[\"duration\"],predicted_y, '.',color='xkcd:orange')\n",
    "plt.plot(df_test[\"duration\"],df_test[\"waiting\"], '.',color='xkcd:sage')\n",
    "plt.xlabel('ERUPTION DURATION')\n",
    "plt.ylabel('WAITING TIME')\n",
    "\n",
    "legend_elements = [Line2D([0], [0], marker='o', color='w', label='PREDICTED',\n",
    "                      markerfacecolor='xkcd:orange', markersize=10),\n",
    "                   Line2D([0], [0], marker='o', color='w', label='ACTUAL',\n",
    "                      markerfacecolor='xkcd:sage', markersize=10)\n",
    "                   ]\n",
    "# Create the figure\n",
    "plt.legend(handles=legend_elements, loc='best')\n",
    "plt.show()"
   ]
  },
  {
   "cell_type": "markdown",
   "metadata": {},
   "source": [
    "### ```8.1.0``` Accuracy Score using R2"
   ]
  },
  {
   "cell_type": "code",
   "execution_count": 15,
   "metadata": {},
   "outputs": [
    {
     "data": {
      "text/html": [
       "<div>\n",
       "<style scoped>\n",
       "    .dataframe tbody tr th:only-of-type {\n",
       "        vertical-align: middle;\n",
       "    }\n",
       "\n",
       "    .dataframe tbody tr th {\n",
       "        vertical-align: top;\n",
       "    }\n",
       "\n",
       "    .dataframe thead th {\n",
       "        text-align: right;\n",
       "    }\n",
       "</style>\n",
       "<table border=\"1\" class=\"dataframe\">\n",
       "  <thead>\n",
       "    <tr style=\"text-align: right;\">\n",
       "      <th></th>\n",
       "      <th>MY R2 SCORE</th>\n",
       "    </tr>\n",
       "  </thead>\n",
       "  <tbody>\n",
       "    <tr>\n",
       "      <th>0</th>\n",
       "      <td>0.85894</td>\n",
       "    </tr>\n",
       "  </tbody>\n",
       "</table>\n",
       "</div>"
      ],
      "text/plain": [
       "   MY R2 SCORE\n",
       "0      0.85894"
      ]
     },
     "execution_count": 15,
     "metadata": {},
     "output_type": "execute_result"
    }
   ],
   "source": [
    "my_r2 = r2_score(df_test['waiting'],predicted_y)\n",
    "df_r2 = pd.DataFrame([[my_r2]],columns=['MY R2 SCORE'])\n",
    "df_r2.head()"
   ]
  }
 ],
 "metadata": {
  "kernelspec": {
   "display_name": "Python 3",
   "language": "python",
   "name": "python3"
  },
  "language_info": {
   "codemirror_mode": {
    "name": "ipython",
    "version": 3
   },
   "file_extension": ".py",
   "mimetype": "text/x-python",
   "name": "python",
   "nbconvert_exporter": "python",
   "pygments_lexer": "ipython3",
   "version": "3.7.6"
  }
 },
 "nbformat": 4,
 "nbformat_minor": 4
}
