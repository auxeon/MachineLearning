{
 "cells": [
  {
   "cell_type": "markdown",
   "metadata": {},
   "source": [
    "### Naive Bayes Spam Filter"
   ]
  },
  {
   "cell_type": "markdown",
   "metadata": {},
   "source": [
    "### ```1.0.0``` Import Packages"
   ]
  },
  {
   "cell_type": "code",
   "execution_count": 1,
   "metadata": {},
   "outputs": [],
   "source": [
    "import pandas as pd\n",
    "from sklearn.metrics import accuracy_score\n",
    "import seaborn as sns\n",
    "import matplotlib.pyplot as plt\n",
    "from matplotlib.lines import Line2D\n",
    "import numpy as np\n",
    "from sklearn.model_selection import train_test_split\n",
    "from collections import defaultdict"
   ]
  },
  {
   "cell_type": "code",
   "execution_count": 2,
   "metadata": {},
   "outputs": [],
   "source": [
    "f_train_feat = \"data/train-features.txt\"\n",
    "f_train_label = \"data/train-labels.txt\"\n",
    "f_test_feat = \"data/test-features.txt\"\n",
    "f_test_label = \"data/test-labels.txt\"\n",
    "cols = ['MSG_NO','WORD_NO','CURR_FREQ']\n",
    "output = ['SPAM']"
   ]
  },
  {
   "cell_type": "markdown",
   "metadata": {},
   "source": [
    "### ```2.1.0``` Preprecess raw data"
   ]
  },
  {
   "cell_type": "code",
   "execution_count": 3,
   "metadata": {},
   "outputs": [],
   "source": [
    "#import dataset\n",
    "df_train_feat = pd.read_csv(f_train_feat,delimiter=' ',names=cols)\n",
    "df_train_label = pd.read_csv(f_train_label,delimiter=' ',names=output)\n",
    "\n",
    "df_test_feat = pd.read_csv(f_test_feat,delimiter=' ',names=cols)\n",
    "df_test_label = pd.read_csv(f_test_label,delimiter=' ',names=output)"
   ]
  },
  {
   "cell_type": "code",
   "execution_count": 4,
   "metadata": {},
   "outputs": [],
   "source": [
    "df_train_feat['SPAM'] = -1\n",
    "df_test_feat['SPAM'] = -1\n",
    "df_test_feat['PREDICTED SPAM'] = -1"
   ]
  },
  {
   "cell_type": "code",
   "execution_count": 5,
   "metadata": {},
   "outputs": [],
   "source": [
    "for i in range (0,df_train_label.shape[0]):\n",
    "    df_train_feat.loc[df_train_feat.MSG_NO == i+1,'SPAM'] = df_train_label.iloc[i]['SPAM']\n",
    "    \n",
    "for i in range (0,df_test_label.shape[0]):\n",
    "    df_test_feat.loc[df_test_feat.MSG_NO == i+1,'SPAM'] = df_test_label.iloc[i]['SPAM']"
   ]
  },
  {
   "cell_type": "markdown",
   "metadata": {},
   "source": [
    "### ```3.1.0``` Naive Bayes approach\n",
    "\n",
    "* probability for a set of samples : $P(\\vec{samples}|class) = \\prod_{i=1}^{n}P(sample_{i}|class)$\n",
    "* conditional probability for a class given samples : $P(class_{i} | \\vec{samples}) = \\dfrac{P(class_{i})P(\\vec{samples} | class_i)}{\\displaystyle\\sum_{i=1}^{n}{P(class_i)P(\\vec{samples}|class_i)}}$\n",
    "\n"
   ]
  },
  {
   "cell_type": "code",
   "execution_count": 6,
   "metadata": {},
   "outputs": [],
   "source": [
    "#helper functions \n",
    "def p_xi_spam(df,xi):\n",
    "    total = df[df['SPAM'] == 1]['MSG_NO'].nunique()\n",
    "    n_spam_xi = 0\n",
    "    for i in df[df['SPAM'] == 1]['MSG_NO'].unique():\n",
    "        if i in df[df['WORD_NO'] == xi]['MSG_NO'].values:\n",
    "            n_spam_xi+=1\n",
    "    return n_spam_xi/total\n",
    "\n",
    "def p_xi_ham(df,xi):\n",
    "    total = df[df['SPAM'] == 0]['MSG_NO'].nunique()\n",
    "    n_ham_xi = 0\n",
    "    for i in df[df['SPAM'] == 0]['MSG_NO'].unique():\n",
    "        if i in df[df['WORD_NO'] == xi]['MSG_NO'].values:\n",
    "            n_ham_xi+=1\n",
    "    return n_ham_xi/total\n",
    "\n",
    "def p_spam(df):\n",
    "    total = df['MSG_NO'].nunique()\n",
    "    n_spam = df[df['SPAM'] == 1]['MSG_NO'].nunique()\n",
    "    return n_spam/total\n",
    "\n",
    "def p_ham(df):\n",
    "    total = df['MSG_NO'].nunique()\n",
    "    n_ham = df[df['SPAM'] == 0]['MSG_NO'].nunique()\n",
    "    return n_ham/total\n",
    "\n",
    "def populate_dict(df):\n",
    "    sdict = defaultdict(int)\n",
    "    hdict = defaultdict(int)\n",
    "    for index,row in df.iterrows():\n",
    "        if row['SPAM'] == 1:\n",
    "            sdict[row['WORD_NO']] += row['CURR_FREQ']\n",
    "        else:\n",
    "            hdict[row['WORD_NO']] += row['CURR_FREQ']\n",
    "    return sdict,hdict\n",
    "\n",
    "\n",
    "def predict_naivebayes(df_train_feat,df_test_feat,s_alpha=1.0,s_beta=2.0):\n",
    "    msgno = 0\n",
    "    p_spam = 0\n",
    "    p_ham = 0\n",
    "    \n",
    "    sdict = defaultdict(int)\n",
    "    hdict = defaultdict(int)\n",
    "    sdict,hdict = populate_dict(df_train_feat)\n",
    "\n",
    "    spam_length = df_train_label[df_train_label['SPAM'] == 1].shape[0]\n",
    "    ham_length = df_train_label[df_train_label['SPAM'] == 0].shape[0]\n",
    "    \n",
    "    test_spam_length = df_test_label[df_test_label['SPAM'] == 1].shape[0]\n",
    "    test_ham_length = df_test_label[df_test_label['SPAM'] == 0].shape[0]\n",
    "\n",
    "    test_p_spam = (test_spam_length /  test_spam_length + test_ham_length )\n",
    "    test_p_ham = (test_ham_length /  test_spam_length + test_ham_length )\n",
    "    \n",
    "    # for each word of each message\n",
    "    for index,row in df_test_feat.iterrows():\n",
    "        if (msgno != row[\"MSG_NO\"]):\n",
    "            p_spam = 0\n",
    "            p_ham = 0\n",
    "       \n",
    "        # laplace smoothing\n",
    "        p_x_spam = ( sdict[row[\"WORD_NO\"]] + s_alpha ) / (spam_length + s_beta )\n",
    "        p_x_ham = ( hdict[row[\"WORD_NO\"]] + s_alpha ) / (ham_length + s_beta )\n",
    "    \n",
    "        p_spam += ( np.log( p_x_spam ) * row[\"CURR_FREQ\"] )\n",
    "        p_ham += ( np.log( p_x_ham ) * row[\"CURR_FREQ\"] )\n",
    "    \n",
    "        msgno = row[\"MSG_NO\"]\n",
    "        mask = (df_test_feat['MSG_NO'] == msgno)\n",
    "        \n",
    "        if p_spam + np.log(test_p_spam) > p_ham + np.log(test_p_ham):\n",
    "            df_test_feat['PREDICTED SPAM'][mask] = 1\n",
    "        else:\n",
    "            df_test_feat['PREDICTED SPAM'][mask] = 0\n",
    "            \n",
    "    return df_test_feat"
   ]
  },
  {
   "cell_type": "markdown",
   "metadata": {},
   "source": [
    "### ```4.1.0``` Classifying messages"
   ]
  },
  {
   "cell_type": "code",
   "execution_count": 7,
   "metadata": {},
   "outputs": [
    {
     "data": {
      "text/html": [
       "<div>\n",
       "<style scoped>\n",
       "    .dataframe tbody tr th:only-of-type {\n",
       "        vertical-align: middle;\n",
       "    }\n",
       "\n",
       "    .dataframe tbody tr th {\n",
       "        vertical-align: top;\n",
       "    }\n",
       "\n",
       "    .dataframe thead th {\n",
       "        text-align: right;\n",
       "    }\n",
       "</style>\n",
       "<table border=\"1\" class=\"dataframe\">\n",
       "  <thead>\n",
       "    <tr style=\"text-align: right;\">\n",
       "      <th></th>\n",
       "      <th>MSG_NO</th>\n",
       "      <th>WORD_NO</th>\n",
       "      <th>CURR_FREQ</th>\n",
       "      <th>SPAM</th>\n",
       "      <th>PREDICTED SPAM</th>\n",
       "    </tr>\n",
       "  </thead>\n",
       "  <tbody>\n",
       "    <tr>\n",
       "      <th>0</th>\n",
       "      <td>1</td>\n",
       "      <td>8</td>\n",
       "      <td>1</td>\n",
       "      <td>0</td>\n",
       "      <td>0</td>\n",
       "    </tr>\n",
       "    <tr>\n",
       "      <th>1</th>\n",
       "      <td>1</td>\n",
       "      <td>9</td>\n",
       "      <td>1</td>\n",
       "      <td>0</td>\n",
       "      <td>0</td>\n",
       "    </tr>\n",
       "    <tr>\n",
       "      <th>2</th>\n",
       "      <td>1</td>\n",
       "      <td>17</td>\n",
       "      <td>1</td>\n",
       "      <td>0</td>\n",
       "      <td>0</td>\n",
       "    </tr>\n",
       "    <tr>\n",
       "      <th>3</th>\n",
       "      <td>1</td>\n",
       "      <td>19</td>\n",
       "      <td>1</td>\n",
       "      <td>0</td>\n",
       "      <td>0</td>\n",
       "    </tr>\n",
       "    <tr>\n",
       "      <th>4</th>\n",
       "      <td>1</td>\n",
       "      <td>29</td>\n",
       "      <td>1</td>\n",
       "      <td>0</td>\n",
       "      <td>0</td>\n",
       "    </tr>\n",
       "    <tr>\n",
       "      <th>...</th>\n",
       "      <td>...</td>\n",
       "      <td>...</td>\n",
       "      <td>...</td>\n",
       "      <td>...</td>\n",
       "      <td>...</td>\n",
       "    </tr>\n",
       "    <tr>\n",
       "      <th>27974</th>\n",
       "      <td>260</td>\n",
       "      <td>1512</td>\n",
       "      <td>1</td>\n",
       "      <td>1</td>\n",
       "      <td>1</td>\n",
       "    </tr>\n",
       "    <tr>\n",
       "      <th>27975</th>\n",
       "      <td>260</td>\n",
       "      <td>1624</td>\n",
       "      <td>1</td>\n",
       "      <td>1</td>\n",
       "      <td>1</td>\n",
       "    </tr>\n",
       "    <tr>\n",
       "      <th>27976</th>\n",
       "      <td>260</td>\n",
       "      <td>1967</td>\n",
       "      <td>1</td>\n",
       "      <td>1</td>\n",
       "      <td>1</td>\n",
       "    </tr>\n",
       "    <tr>\n",
       "      <th>27977</th>\n",
       "      <td>260</td>\n",
       "      <td>1974</td>\n",
       "      <td>2</td>\n",
       "      <td>1</td>\n",
       "      <td>1</td>\n",
       "    </tr>\n",
       "    <tr>\n",
       "      <th>27978</th>\n",
       "      <td>260</td>\n",
       "      <td>1991</td>\n",
       "      <td>1</td>\n",
       "      <td>1</td>\n",
       "      <td>1</td>\n",
       "    </tr>\n",
       "  </tbody>\n",
       "</table>\n",
       "<p>27979 rows × 5 columns</p>\n",
       "</div>"
      ],
      "text/plain": [
       "       MSG_NO  WORD_NO  CURR_FREQ  SPAM  PREDICTED SPAM\n",
       "0           1        8          1     0               0\n",
       "1           1        9          1     0               0\n",
       "2           1       17          1     0               0\n",
       "3           1       19          1     0               0\n",
       "4           1       29          1     0               0\n",
       "...       ...      ...        ...   ...             ...\n",
       "27974     260     1512          1     1               1\n",
       "27975     260     1624          1     1               1\n",
       "27976     260     1967          1     1               1\n",
       "27977     260     1974          2     1               1\n",
       "27978     260     1991          1     1               1\n",
       "\n",
       "[27979 rows x 5 columns]"
      ]
     },
     "execution_count": 7,
     "metadata": {},
     "output_type": "execute_result"
    }
   ],
   "source": [
    "# generate test msgs\n",
    "df_test_feat = predict_naivebayes(df_train_feat,df_test_feat)\n",
    "df_test_feat"
   ]
  },
  {
   "cell_type": "markdown",
   "metadata": {},
   "source": [
    "### ```5.1.0``` Visualizing Results"
   ]
  },
  {
   "cell_type": "code",
   "execution_count": 8,
   "metadata": {},
   "outputs": [
    {
     "data": {
      "image/png": "[encoded data removed]",
      "text/plain": [
       "<Figure size 1440x504 with 1 Axes>"
      ]
     },
     "metadata": {
      "needs_background": "light"
     },
     "output_type": "display_data"
    }
   ],
   "source": [
    "fig, arr = plt.subplots(nrows=1, ncols=1, sharex=False, sharey=True)\n",
    "fig.set_figwidth(20)\n",
    "fig.set_figheight(7)\n",
    "legend_elements = [Line2D([0], [0], marker='o', color='w', label='ACTUAL',\n",
    "                          markerfacecolor='xkcd:azure', markersize=10),\n",
    "                   Line2D([0], [0], marker='o', color='w', label='PREDICTED',\n",
    "                          markerfacecolor='xkcd:orange', markersize=10)\n",
    "                  ]\n",
    "\n",
    "fig.legend(handles=legend_elements, loc='center left')\n",
    "arr.plot(df_test_feat['MSG_NO'],df_test_feat['PREDICTED SPAM'],'.',c='xkcd:orange')\n",
    "arr.plot(df_test_feat['MSG_NO'],df_test_feat['SPAM']+0.05,'.',c='xkcd:azure')\n",
    "arr.set_title('PREDICTED')\n",
    "arr.set_xlabel('MSG_NO')\n",
    "arr.set_ylabel('SPAM')\n",
    "fig.show()"
   ]
  },
  {
   "cell_type": "markdown",
   "metadata": {},
   "source": [
    "### ```6.1.0``` Accuracy Score"
   ]
  },
  {
   "cell_type": "code",
   "execution_count": 9,
   "metadata": {},
   "outputs": [
    {
     "data": {
      "text/html": [
       "<div>\n",
       "<style scoped>\n",
       "    .dataframe tbody tr th:only-of-type {\n",
       "        vertical-align: middle;\n",
       "    }\n",
       "\n",
       "    .dataframe tbody tr th {\n",
       "        vertical-align: top;\n",
       "    }\n",
       "\n",
       "    .dataframe thead th {\n",
       "        text-align: right;\n",
       "    }\n",
       "</style>\n",
       "<table border=\"1\" class=\"dataframe\">\n",
       "  <thead>\n",
       "    <tr style=\"text-align: right;\">\n",
       "      <th></th>\n",
       "      <th>MATCHES</th>\n",
       "      <th>TOTAL MESSAGES</th>\n",
       "      <th>ACCURACY SCORE</th>\n",
       "    </tr>\n",
       "  </thead>\n",
       "  <tbody>\n",
       "    <tr>\n",
       "      <th>0</th>\n",
       "      <td>252</td>\n",
       "      <td>260</td>\n",
       "      <td>96.923077</td>\n",
       "    </tr>\n",
       "  </tbody>\n",
       "</table>\n",
       "</div>"
      ],
      "text/plain": [
       "   MATCHES  TOTAL MESSAGES  ACCURACY SCORE\n",
       "0      252             260       96.923077"
      ]
     },
     "execution_count": 9,
     "metadata": {},
     "output_type": "execute_result"
    }
   ],
   "source": [
    "match = df_test_feat[(df_test_feat['SPAM'] == df_test_feat['PREDICTED SPAM'])]['MSG_NO'].nunique()\n",
    "total = df_test_feat['MSG_NO'].nunique()\n",
    "accuracy = match/total*100\n",
    "df_accuracy = pd.DataFrame([[match,total,accuracy]],columns=['MATCHES','TOTAL MESSAGES','ACCURACY SCORE'])\n",
    "df_accuracy"
   ]
  }
 ],
 "metadata": {
  "kernelspec": {
   "display_name": "Python 3",
   "language": "python",
   "name": "python3"
  },
  "language_info": {
   "codemirror_mode": {
    "name": "ipython",
    "version": 3
   },
   "file_extension": ".py",
   "mimetype": "text/x-python",
   "name": "python",
   "nbconvert_exporter": "python",
   "pygments_lexer": "ipython3",
   "version": "3.7.6"
  }
 },
 "nbformat": 4,
 "nbformat_minor": 4
}
