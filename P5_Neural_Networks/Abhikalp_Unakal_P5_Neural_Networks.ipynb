{
 "cells": [
  {
   "cell_type": "markdown",
   "metadata": {},
   "source": [
    "# Neural Network\n",
    "-----------------"
   ]
  },
  {
   "cell_type": "markdown",
   "metadata": {},
   "source": [
    "### ```1.1.0``` Import packages"
   ]
  },
  {
   "cell_type": "code",
   "execution_count": 1,
   "metadata": {},
   "outputs": [],
   "source": [
    "import tensorflow as tf\n",
    "import matplotlib.pyplot as plt\n",
    "from matplotlib.lines import Line2D\n",
    "from sklearn.model_selection import train_test_split\n",
    "from sklearn.metrics import mean_squared_error,r2_score\n",
    "import numpy as np\n",
    "import random\n",
    "import pandas as pd"
   ]
  },
  {
   "cell_type": "markdown",
   "metadata": {},
   "source": [
    "### ```2.1.0``` Neural Network - (x/y)"
   ]
  },
  {
   "cell_type": "code",
   "execution_count": 2,
   "metadata": {},
   "outputs": [],
   "source": [
    "# part 1\n",
    "# helper functions\n",
    "\n",
    "def triples(count,min_value,max_value):\n",
    "    numbers = []\n",
    "    for n in range(count):\n",
    "        a = random.randint(min_value, max_value)\n",
    "        b = random.randint(min_value, max_value)\n",
    "        if(b == 0):\n",
    "            c = np.inf\n",
    "        else:\n",
    "            c = a/b\n",
    "        numbers.append([a,b,c])\n",
    "    numbers = np.asarray(numbers)\n",
    "    return numbers\n",
    "\n",
    "def diff_relu(matr):\n",
    "    temp = matr\n",
    "    temp[temp<=0] = 0\n",
    "    temp[temp>0] = 1\n",
    "    return temp\n",
    "\n",
    "def relu(x):\n",
    "    return np.maximum(x,0)\n",
    "\n",
    "def train_network(train_x,train_y,in_size,l_size,out_size,epochs=500000,learn_rate=0.000001,verbose=False):\n",
    "    \n",
    "    iteration=0\n",
    "    \n",
    "    L1 = np.random.rand(l_size, in_size)\n",
    "    L2 = np.random.rand(l_size, l_size)\n",
    "    L3 = np.random.rand(out_size, l_size )\n",
    "    \n",
    "    \n",
    "    while(iteration < epochs):\n",
    "        o0 = train_x.T\n",
    "        Z1 = np.matmul(L1,o0)\n",
    "        \n",
    "        o1 = relu(Z1)\n",
    "        Z2 = np.matmul(L2,o1)\n",
    "        \n",
    "        o2 = relu(Z2)\n",
    "        Z3 = np.matmul(L3,o2)\n",
    "        \n",
    "        o3 = Z3\n",
    "        layer_loss3 = o3 - train_y.T\n",
    "        \n",
    "        diff = diff_relu(Z3)\n",
    "        loss = np.multiply(layer_loss3,diff)                    \n",
    "        layer_loss2 = np.matmul(L3.T, loss)\n",
    "        \n",
    "        dw2 = np.matmul( loss, o2.T ) \n",
    "        diff = diff_relu(Z2)\n",
    "        loss = np.multiply(layer_loss2,diff)                     \n",
    "        layer_loss1 = np.matmul(L2.T, loss)\n",
    "        \n",
    "        dw1 = np.matmul( loss, o1.T ) \n",
    "        diff = diff_relu(Z1)\n",
    "        loss = np.multiply(layer_loss3,diff)     \n",
    "        dw0 = np.matmul( loss, o0.T )\n",
    "        \n",
    "        L1 -= learn_rate * dw0\n",
    "        L2 -= learn_rate * dw1\n",
    "        L3 -= learn_rate * dw2\n",
    "        \n",
    "        iteration+=1\n",
    "        if(iteration%10000 == 0 and verbose):\n",
    "            print('({0}/{1})'.format(iteration,epochs))\n",
    "    \n",
    "    return L1,L2,L3\n",
    "\n",
    "def predict_network(test_x,L1,L2,L3):\n",
    "    Z0 = test_x.T\n",
    "    o0 = Z0\n",
    "    Z1 = np.matmul(L1,o0)\n",
    "    o1 = relu(Z1)\n",
    "    Z2 = np.matmul(L2,o1)\n",
    "    o2 = relu(Z2)\n",
    "    Z3 = np.matmul(L3,o2)\n",
    "    o3 = relu(Z3)\n",
    "    return o3[0]\n",
    "\n",
    "def split_dataset(x_raw,test_frac=0.3):\n",
    "    train, test = train_test_split(x_raw, test_size=test_frac)\n",
    "    train_x = train[:,:2]\n",
    "    train_y = train[:,2]\n",
    "    test_x = test[:,:2]\n",
    "    test_y = test[:,2]\n",
    "    return train_x,train_y,test_x,test_y"
   ]
  },
  {
   "cell_type": "markdown",
   "metadata": {},
   "source": [
    "### ```2.2.0``` Generate Training Data and split datasets"
   ]
  },
  {
   "cell_type": "code",
   "execution_count": 3,
   "metadata": {},
   "outputs": [],
   "source": [
    "# generate training data\n",
    "x_raw = triples(1000,1,10)\n",
    "train_x,train_y,test_x,test_y = split_dataset(x_raw,0.2)"
   ]
  },
  {
   "cell_type": "code",
   "execution_count": 4,
   "metadata": {},
   "outputs": [
    {
     "name": "stdout",
     "output_type": "stream",
     "text": [
      "[[ 4.          8.          0.5       ]\n",
      " [ 1.          9.          0.11111111]\n",
      " [ 9.          4.          2.25      ]\n",
      " ...\n",
      " [ 9.          4.          2.25      ]\n",
      " [ 5.          3.          1.66666667]\n",
      " [10.          4.          2.5       ]]\n"
     ]
    }
   ],
   "source": [
    "print(x_raw)"
   ]
  },
  {
   "cell_type": "markdown",
   "metadata": {},
   "source": [
    "### ```2.3.0``` Model Training"
   ]
  },
  {
   "cell_type": "code",
   "execution_count": 5,
   "metadata": {},
   "outputs": [
    {
     "name": "stdout",
     "output_type": "stream",
     "text": [
      "(10000/50000)\n",
      "(20000/50000)\n",
      "(30000/50000)\n",
      "(40000/50000)\n",
      "(50000/50000)\n"
     ]
    }
   ],
   "source": [
    "# train network\n",
    "L1,L2,L3 = train_network(train_x,train_y,in_size=2,l_size=5,out_size=1,epochs=50000,learn_rate=0.0000005,verbose=True)"
   ]
  },
  {
   "cell_type": "markdown",
   "metadata": {},
   "source": [
    "### ```2.4.0``` Predict f(x,y) = x/y"
   ]
  },
  {
   "cell_type": "code",
   "execution_count": 6,
   "metadata": {},
   "outputs": [],
   "source": [
    "# make prediction\n",
    "predict_y = predict_network(test_x,L1,L2,L3)"
   ]
  },
  {
   "cell_type": "code",
   "execution_count": 7,
   "metadata": {},
   "outputs": [
    {
     "data": {
      "text/html": [
       "<div>\n",
       "<style scoped>\n",
       "    .dataframe tbody tr th:only-of-type {\n",
       "        vertical-align: middle;\n",
       "    }\n",
       "\n",
       "    .dataframe tbody tr th {\n",
       "        vertical-align: top;\n",
       "    }\n",
       "\n",
       "    .dataframe thead th {\n",
       "        text-align: right;\n",
       "    }\n",
       "</style>\n",
       "<table border=\"1\" class=\"dataframe\">\n",
       "  <thead>\n",
       "    <tr style=\"text-align: right;\">\n",
       "      <th></th>\n",
       "      <th>X1</th>\n",
       "      <th>X2</th>\n",
       "      <th>Y_ACTUAL</th>\n",
       "      <th>Y_PREDICTED</th>\n",
       "    </tr>\n",
       "  </thead>\n",
       "  <tbody>\n",
       "    <tr>\n",
       "      <th>0</th>\n",
       "      <td>6.0</td>\n",
       "      <td>10.0</td>\n",
       "      <td>0.600000</td>\n",
       "      <td>0.794374</td>\n",
       "    </tr>\n",
       "    <tr>\n",
       "      <th>1</th>\n",
       "      <td>1.0</td>\n",
       "      <td>6.0</td>\n",
       "      <td>0.166667</td>\n",
       "      <td>0.099650</td>\n",
       "    </tr>\n",
       "    <tr>\n",
       "      <th>2</th>\n",
       "      <td>3.0</td>\n",
       "      <td>7.0</td>\n",
       "      <td>0.428571</td>\n",
       "      <td>0.382073</td>\n",
       "    </tr>\n",
       "    <tr>\n",
       "      <th>3</th>\n",
       "      <td>2.0</td>\n",
       "      <td>6.0</td>\n",
       "      <td>0.333333</td>\n",
       "      <td>0.244640</td>\n",
       "    </tr>\n",
       "    <tr>\n",
       "      <th>4</th>\n",
       "      <td>10.0</td>\n",
       "      <td>8.0</td>\n",
       "      <td>1.250000</td>\n",
       "      <td>1.389448</td>\n",
       "    </tr>\n",
       "    <tr>\n",
       "      <th>5</th>\n",
       "      <td>4.0</td>\n",
       "      <td>3.0</td>\n",
       "      <td>1.333333</td>\n",
       "      <td>0.557291</td>\n",
       "    </tr>\n",
       "    <tr>\n",
       "      <th>6</th>\n",
       "      <td>8.0</td>\n",
       "      <td>6.0</td>\n",
       "      <td>1.333333</td>\n",
       "      <td>1.114581</td>\n",
       "    </tr>\n",
       "    <tr>\n",
       "      <th>7</th>\n",
       "      <td>5.0</td>\n",
       "      <td>10.0</td>\n",
       "      <td>0.500000</td>\n",
       "      <td>0.649384</td>\n",
       "    </tr>\n",
       "    <tr>\n",
       "      <th>8</th>\n",
       "      <td>5.0</td>\n",
       "      <td>2.0</td>\n",
       "      <td>2.500000</td>\n",
       "      <td>1.659592</td>\n",
       "    </tr>\n",
       "    <tr>\n",
       "      <th>9</th>\n",
       "      <td>9.0</td>\n",
       "      <td>2.0</td>\n",
       "      <td>4.500000</td>\n",
       "      <td>5.759160</td>\n",
       "    </tr>\n",
       "  </tbody>\n",
       "</table>\n",
       "</div>"
      ],
      "text/plain": [
       "     X1    X2  Y_ACTUAL  Y_PREDICTED\n",
       "0   6.0  10.0  0.600000     0.794374\n",
       "1   1.0   6.0  0.166667     0.099650\n",
       "2   3.0   7.0  0.428571     0.382073\n",
       "3   2.0   6.0  0.333333     0.244640\n",
       "4  10.0   8.0  1.250000     1.389448\n",
       "5   4.0   3.0  1.333333     0.557291\n",
       "6   8.0   6.0  1.333333     1.114581\n",
       "7   5.0  10.0  0.500000     0.649384\n",
       "8   5.0   2.0  2.500000     1.659592\n",
       "9   9.0   2.0  4.500000     5.759160"
      ]
     },
     "execution_count": 7,
     "metadata": {},
     "output_type": "execute_result"
    }
   ],
   "source": [
    "# create dataframe\n",
    "df = pd.DataFrame(data=test_x,columns=['X1','X2'])\n",
    "df['Y_ACTUAL'] = test_y\n",
    "df['Y_PREDICTED'] = predict_y\n",
    "df.head(n=10)"
   ]
  },
  {
   "cell_type": "markdown",
   "metadata": {},
   "source": [
    "### ```2.4.1``` Visualize Predictions"
   ]
  },
  {
   "cell_type": "code",
   "execution_count": 8,
   "metadata": {},
   "outputs": [
    {
     "data": {
      "image/png": "[encoded data removed]",
      "text/plain": [
       "<Figure size 720x360 with 1 Axes>"
      ]
     },
     "metadata": {
      "needs_background": "light"
     },
     "output_type": "display_data"
    }
   ],
   "source": [
    "# the closer to the line y=x the points are the better is our model\n",
    "\n",
    "fig, ax = plt.subplots(figsize=(10,5))\n",
    "ax.scatter(df['Y_ACTUAL'], df['Y_PREDICTED'], s=25, c='xkcd:orange', cmap=plt.cm.YlGn, zorder=10)\n",
    "\n",
    "lims = [\n",
    "    np.min([ax.get_xlim(), ax.get_ylim()]),  # min of both axes\n",
    "    np.max([ax.get_xlim(), ax.get_ylim()]),  # max of both axes\n",
    "]\n",
    "\n",
    "# now plot both limits against eachother\n",
    "ax.plot(lims, lims, 'k-', alpha=0.75, zorder=0)\n",
    "ax.set_title(label='f(x,y) = y PREDICTIONS VS ACTUAL RESULTS',fontsize=10)\n",
    "ax.set_xlabel('Y_ACTUAL')\n",
    "ax.set_ylabel('Y_PREDICTED')\n",
    "ax.set_aspect('equal')\n",
    "ax.set_xlim(lims)\n",
    "ax.set_ylim(lims)\n",
    "plt.show()"
   ]
  },
  {
   "cell_type": "markdown",
   "metadata": {},
   "source": [
    "### ```2.5.0``` Model Performance and R2 score"
   ]
  },
  {
   "cell_type": "code",
   "execution_count": 9,
   "metadata": {},
   "outputs": [
    {
     "data": {
      "text/html": [
       "<div>\n",
       "<style scoped>\n",
       "    .dataframe tbody tr th:only-of-type {\n",
       "        vertical-align: middle;\n",
       "    }\n",
       "\n",
       "    .dataframe tbody tr th {\n",
       "        vertical-align: top;\n",
       "    }\n",
       "\n",
       "    .dataframe thead th {\n",
       "        text-align: right;\n",
       "    }\n",
       "</style>\n",
       "<table border=\"1\" class=\"dataframe\">\n",
       "  <thead>\n",
       "    <tr style=\"text-align: right;\">\n",
       "      <th></th>\n",
       "      <th>MY R2 SCORE</th>\n",
       "    </tr>\n",
       "  </thead>\n",
       "  <tbody>\n",
       "    <tr>\n",
       "      <th>0</th>\n",
       "      <td>0.930968</td>\n",
       "    </tr>\n",
       "  </tbody>\n",
       "</table>\n",
       "</div>"
      ],
      "text/plain": [
       "   MY R2 SCORE\n",
       "0     0.930968"
      ]
     },
     "execution_count": 9,
     "metadata": {},
     "output_type": "execute_result"
    }
   ],
   "source": [
    "# r2 measure of accuracy score\n",
    "r2 = r2_score(test_y, predict_y)\n",
    "df_r2 = pd.DataFrame([[r2]],columns=['MY R2 SCORE'])\n",
    "df_r2.head()"
   ]
  },
  {
   "cell_type": "markdown",
   "metadata": {},
   "source": [
    "### ```3.1.0``` MNIST handwritten digit classification using Tensorflow"
   ]
  },
  {
   "cell_type": "code",
   "execution_count": 10,
   "metadata": {},
   "outputs": [],
   "source": [
    "# part 2 - mnist dataset\n",
    "mnist  = tf.keras.datasets.mnist\n",
    "(x_train,y_train), (x_test,y_test) = mnist.load_data()"
   ]
  },
  {
   "cell_type": "code",
   "execution_count": 11,
   "metadata": {},
   "outputs": [],
   "source": [
    "# helper fucntions\n",
    "def show_sample(sample,cmap=plt.cm.binary):\n",
    "    plt.imshow(sample,cmap)\n",
    "    plt.show()\n",
    "    \n",
    "def construct_network():\n",
    "    # adding neural network layers\n",
    "    model = tf.keras.models.Sequential()\n",
    "    model.add(tf.keras.layers.Flatten())\n",
    "    model.add(tf.keras.layers.Dense(128,activation=tf.nn.relu))\n",
    "    model.add(tf.keras.layers.Dense(128,activation=tf.nn.relu))\n",
    "    model.add(tf.keras.layers.Dense(10,activation=tf.nn.softmax))\n",
    "    model.compile(optimizer='adam',loss='sparse_categorical_crossentropy',metrics=['accuracy'])\n",
    "    return model\n",
    "\n",
    "def train_mnist(model,x_train,y_train,ep):\n",
    "    model.fit(x_train,y_train,epochs=ep)\n",
    "    model.save('models/mnist_ff')\n",
    "    \n",
    "def show_predictions(predictions,x_test,num,rows):\n",
    "    \n",
    "    cols = int(num/rows)\n",
    "\n",
    "    i_list = []\n",
    "    imno = 0\n",
    "    for x in range(num):\n",
    "        i = random.randint(1,predictions.shape[0])\n",
    "        i_list.append(i)\n",
    "    \n",
    "    \n",
    "    f, ax = plt.subplots(rows,cols,figsize=(20, 10))\n",
    "    for r in range(rows):\n",
    "        for c in range(cols):\n",
    "            if(rows > 1):\n",
    "                ax[r,c].imshow(x_test[i_list[imno]],cmap=plt.cm.YlGn)\n",
    "                ax[r,c].text(3, 3, np.argmax(predictions[i_list[imno]]), bbox={'facecolor': 'white', 'pad': 10})\n",
    "            else:\n",
    "                ax[c].imshow(x_test[i_list[imno]],cmap=plt.cm.YlGn)\n",
    "                ax[c].text(3, 3, np.argmax(predictions[i_list[imno]]), bbox={'facecolor': 'white', 'pad': 10})\n",
    "            imno+=1\n",
    "    plt.show()\n",
    "    \n",
    "    "
   ]
  },
  {
   "cell_type": "code",
   "execution_count": 12,
   "metadata": {},
   "outputs": [],
   "source": [
    "# normalizing dataset\n",
    "x_train = tf.keras.utils.normalize(x_train,axis=1)\n",
    "x_test = tf.keras.utils.normalize(x_test,axis=1)"
   ]
  },
  {
   "cell_type": "code",
   "execution_count": 13,
   "metadata": {},
   "outputs": [
    {
     "name": "stdout",
     "output_type": "stream",
     "text": [
      "Train on 60000 samples\n",
      "Epoch 1/3\n",
      "60000/60000 [==============================] - 4s 66us/sample - loss: 0.2572 - accuracy: 0.9239\n",
      "Epoch 2/3\n",
      "60000/60000 [==============================] - 4s 65us/sample - loss: 0.1043 - accuracy: 0.9683\n",
      "Epoch 3/3\n",
      "60000/60000 [==============================] - 4s 64us/sample - loss: 0.0721 - accuracy: 0.9776\n",
      "WARNING:tensorflow:From /home/auxeon/code/ML/auxeon/venv/lib/python3.7/site-packages/tensorflow_core/python/ops/resource_variable_ops.py:1786: calling BaseResourceVariable.__init__ (from tensorflow.python.ops.resource_variable_ops) with constraint is deprecated and will be removed in a future version.\n",
      "Instructions for updating:\n",
      "If using Keras pass *_constraint arguments to layers.\n",
      "INFO:tensorflow:Assets written to: models/mnist_ff/assets\n"
     ]
    }
   ],
   "source": [
    "# build network and train model\n",
    "model = construct_network()\n",
    "model = train_mnist(model,x_train,y_train,3)"
   ]
  },
  {
   "cell_type": "code",
   "execution_count": 14,
   "metadata": {},
   "outputs": [],
   "source": [
    "#make prediction\n",
    "model = tf.keras.models.load_model('models/mnist_ff')\n",
    "predictions = model.predict(x_test)"
   ]
  },
  {
   "cell_type": "markdown",
   "metadata": {},
   "source": [
    "### ```3.2.0``` Display N random predictions "
   ]
  },
  {
   "cell_type": "code",
   "execution_count": 15,
   "metadata": {},
   "outputs": [
    {
     "data": {
      "image/png": "[encoded data removed]",
      "text/plain": [
       "<Figure size 1440x720 with 7 Axes>"
      ]
     },
     "metadata": {
      "needs_background": "light"
     },
     "output_type": "display_data"
    }
   ],
   "source": [
    "show_predictions(predictions,x_test,7,1)"
   ]
  },
  {
   "cell_type": "markdown",
   "metadata": {},
   "source": [
    "### ```3.3.0``` Model Performance"
   ]
  },
  {
   "cell_type": "code",
   "execution_count": 16,
   "metadata": {},
   "outputs": [
    {
     "name": "stdout",
     "output_type": "stream",
     "text": [
      "10000/10000 [==============================] - 0s 47us/sample - loss: 0.0925 - accuracy: 0.9707\n",
      "0.0925070320494473 0.9707\n"
     ]
    }
   ],
   "source": [
    "#model accuracy\n",
    "loss, accuracy = model.evaluate(x_test,y_test)\n",
    "print(loss,accuracy)"
   ]
  }
 ],
 "metadata": {
  "kernelspec": {
   "display_name": "Python 3",
   "language": "python",
   "name": "python3"
  },
  "language_info": {
   "codemirror_mode": {
    "name": "ipython",
    "version": 3
   },
   "file_extension": ".py",
   "mimetype": "text/x-python",
   "name": "python",
   "nbconvert_exporter": "python",
   "pygments_lexer": "ipython3",
   "version": "3.7.6"
  }
 },
 "nbformat": 4,
 "nbformat_minor": 4
}
