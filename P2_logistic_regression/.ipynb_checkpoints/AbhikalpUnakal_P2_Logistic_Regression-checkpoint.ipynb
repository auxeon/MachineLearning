{
 "cells": [
  {
   "cell_type": "markdown",
   "metadata": {},
   "source": [
    "# College admit prediction - Logistic Regression\n",
    "--------------------------------------------------"
   ]
  },
  {
   "cell_type": "markdown",
   "metadata": {},
   "source": [
    "### ```1.1.0``` Import packages"
   ]
  },
  {
   "cell_type": "code",
   "execution_count": 19,
   "metadata": {},
   "outputs": [],
   "source": [
    "import numpy as np\n",
    "import pandas as pd\n",
    "import matplotlib.pyplot as plt\n",
    "from sklearn.linear_model import LogisticRegression\n",
    "from sklearn.metrics import accuracy_score\n",
    "import seaborn as sns"
   ]
  },
  {
   "cell_type": "code",
   "execution_count": 2,
   "metadata": {},
   "outputs": [
    {
     "data": {
      "text/html": [
       "<div>\n",
       "<style scoped>\n",
       "    .dataframe tbody tr th:only-of-type {\n",
       "        vertical-align: middle;\n",
       "    }\n",
       "\n",
       "    .dataframe tbody tr th {\n",
       "        vertical-align: top;\n",
       "    }\n",
       "\n",
       "    .dataframe thead th {\n",
       "        text-align: right;\n",
       "    }\n",
       "</style>\n",
       "<table border=\"1\" class=\"dataframe\">\n",
       "  <thead>\n",
       "    <tr style=\"text-align: right;\">\n",
       "      <th></th>\n",
       "      <th>admit</th>\n",
       "      <th>gre</th>\n",
       "      <th>gpa</th>\n",
       "      <th>rank</th>\n",
       "      <th>rank_2</th>\n",
       "      <th>rank_3</th>\n",
       "      <th>rank_4</th>\n",
       "    </tr>\n",
       "  </thead>\n",
       "  <tbody>\n",
       "    <tr>\n",
       "      <th>0</th>\n",
       "      <td>0</td>\n",
       "      <td>380</td>\n",
       "      <td>3.61</td>\n",
       "      <td>3</td>\n",
       "      <td>0</td>\n",
       "      <td>1</td>\n",
       "      <td>0</td>\n",
       "    </tr>\n",
       "    <tr>\n",
       "      <th>1</th>\n",
       "      <td>1</td>\n",
       "      <td>660</td>\n",
       "      <td>3.67</td>\n",
       "      <td>3</td>\n",
       "      <td>0</td>\n",
       "      <td>1</td>\n",
       "      <td>0</td>\n",
       "    </tr>\n",
       "    <tr>\n",
       "      <th>2</th>\n",
       "      <td>1</td>\n",
       "      <td>800</td>\n",
       "      <td>4.00</td>\n",
       "      <td>1</td>\n",
       "      <td>0</td>\n",
       "      <td>0</td>\n",
       "      <td>0</td>\n",
       "    </tr>\n",
       "    <tr>\n",
       "      <th>3</th>\n",
       "      <td>1</td>\n",
       "      <td>640</td>\n",
       "      <td>3.19</td>\n",
       "      <td>4</td>\n",
       "      <td>0</td>\n",
       "      <td>0</td>\n",
       "      <td>1</td>\n",
       "    </tr>\n",
       "    <tr>\n",
       "      <th>4</th>\n",
       "      <td>0</td>\n",
       "      <td>520</td>\n",
       "      <td>2.93</td>\n",
       "      <td>4</td>\n",
       "      <td>0</td>\n",
       "      <td>0</td>\n",
       "      <td>1</td>\n",
       "    </tr>\n",
       "  </tbody>\n",
       "</table>\n",
       "</div>"
      ],
      "text/plain": [
       "   admit  gre   gpa  rank  rank_2  rank_3  rank_4\n",
       "0      0  380  3.61     3       0       1       0\n",
       "1      1  660  3.67     3       0       1       0\n",
       "2      1  800  4.00     1       0       0       0\n",
       "3      1  640  3.19     4       0       0       1\n",
       "4      0  520  2.93     4       0       0       1"
      ]
     },
     "execution_count": 2,
     "metadata": {},
     "output_type": "execute_result"
    }
   ],
   "source": [
    "#import dataset\n",
    "df = pd.read_csv(\"data/RAW_Admit.csv\")\n",
    "df.head()\n",
    "ohe_df = pd.get_dummies(df['rank'],prefix='rank',drop_first=True)\n",
    "df = pd.concat([df,ohe_df],axis=1)\n",
    "df.head()"
   ]
  },
  {
   "cell_type": "code",
   "execution_count": 22,
   "metadata": {},
   "outputs": [
    {
     "data": {
      "text/plain": [
       "<matplotlib.axes._subplots.AxesSubplot at 0x7f567e664d50>"
      ]
     },
     "execution_count": 22,
     "metadata": {},
     "output_type": "execute_result"
    },
    {
     "data": {
      "image/png": "[encoded data removed]",
      "text/plain": [
       "<Figure size 432x288 with 2 Axes>"
      ]
     },
     "metadata": {
      "needs_background": "light"
     },
     "output_type": "display_data"
    }
   ],
   "source": [
    "# covariance matrix of the ohe concat matrix \n",
    "correlation = df.drop(['admit','rank','gpa'],axis=1).corr()\n",
    "sns.heatmap(correlation,annot=True)"
   ]
  },
  {
   "cell_type": "markdown",
   "metadata": {},
   "source": [
    "### ```2.1.0``` Pre-Processing data\n",
    "* There are no missing values in the dataset - so we got lucky here\n",
    "* The interesting thing about the features ```gre```,```gpa```,```rank``` is that they are of drastically different scales\n",
    "* This means we need to normalize the features\n",
    "* Ideally Regression problems don't require normalization\n",
    "* The caveat however is that for some value $x$, $e^x$ might become too small or too large to be represented if we don't normalize the features\n",
    "* This means that the sigmoid function would be non-computable at these above values of $x$\n",
    "* I've chosen to normalize each feature based on its ```min()``` and ```max()```\n",
    "* I've chosen to normalize features just before starting an epoch of gradient descent - this handles cases where user forgot to provide normalized features to the gradient descent function\n"
   ]
  },
  {
   "cell_type": "markdown",
   "metadata": {},
   "source": [
    "### ```3.1.0``` Splitting data sets\n",
    "\n",
    "* <html>\n",
    "<table style=\"margin-left:0\">\n",
    "    <tr>\n",
    "    <th>Final Feature space</th>\n",
    "    </tr>\n",
    "    <tr>\n",
    "        <td>7</td>\n",
    "    </tr>\n",
    "</table>\n",
    "</html>\n",
    "\n",
    "* <html>\n",
    "<table style=\"margin-left:0\">\n",
    "    <tr>\n",
    "    <th>Training Data</th>\n",
    "    <th>Validation Data</th>\n",
    "    <th>Test Data</th>\n",
    "        <th>Total Data Points</th>\n",
    "    </tr>\n",
    "    <tr>\n",
    "        <td>70%</td>\n",
    "        <td>20%</td>\n",
    "        <td>10%</td>\n",
    "        <td>400</td>\n",
    "    </tr>\n",
    "</table>\n",
    "</html>"
   ]
  },
  {
   "cell_type": "code",
   "execution_count": 23,
   "metadata": {},
   "outputs": [],
   "source": [
    "# doing a randomized split of the dataset so as to reduce training bias\n",
    "\n",
    "df_train = df.sample(n=int((70/100)*(400)))\n",
    "df_validation = df.sample(n=int((20/100)*(400)))\n",
    "df_test = df.sample(n=int((10/100)*(400)))\n",
    "df_all = df.sample(df.shape[0])"
   ]
  },
  {
   "cell_type": "code",
   "execution_count": 24,
   "metadata": {},
   "outputs": [
    {
     "name": "stdout",
     "output_type": "stream",
     "text": [
      "Training Data   : (280,7)\n",
      "Validation Data : (80,7)\n",
      "Test Data       : (40,7)\n"
     ]
    }
   ],
   "source": [
    "# Data point counts\n",
    "\n",
    "print('{0:15} : ({1},{2})'.format('Training Data',df_train.shape[0],df_train.shape[1]))\n",
    "print('{0:15} : ({1},{2})'.format('Validation Data',df_validation.shape[0],df_validation.shape[1]))\n",
    "print('{0:15} : ({1},{2})'.format('Test Data',df_test.shape[0],df_test.shape[1]))"
   ]
  },
  {
   "cell_type": "markdown",
   "metadata": {},
   "source": [
    "### ```4.1.0``` Logistic Regression - Gradient Ascent - Maximizing the log-likelihood\n",
    "* The key idea behind logistic regression is the sigmoid function \n",
    "* Our model is \n",
    "    * $h(\\vec{x}) = \\sigma(\\vec{\\text{w}}^T\\vec{x})$\n",
    "* The key idea here is to figure out the weights $\\vec{\\text{w}}$\n",
    "* Our goal is to maximize the log-likelihood given by \n",
    "    * $l(\\text{w}) = \\displaystyle\\sum_{k=1}^m \\hat{y}_k \\ln(\\sigma(\\text{w}^T\\hat{x}_k)) + (1-\\hat{y}_k)\\ln(1 - \\sigma(\\text{w}^T\\hat{x}_k))$ ,  where $\\text{w}, \\hat{y}_k, \\hat{x}_k$ are vectors\n",
    "    * The perceptron learns by updating it's weights using learning rate $\\alpha$ as follows\n",
    "    * $\\text{w} = \\text{w} + \\alpha\\displaystyle\\sum_{k=1}^m(\\hat{y}_k - \\sigma(\\text{w}^T\\hat{x}_k))\\hat{x}_k$"
   ]
  },
  {
   "cell_type": "code",
   "execution_count": 25,
   "metadata": {},
   "outputs": [],
   "source": [
    "# helper functions\n",
    "def sigmoid(_X):\n",
    "    return 1/(1 + np.exp(-_X))\n",
    "\n",
    "def gradient_descent(_X,_Y,_epochs,_alpha,_verbose):\n",
    "    # normalizing features\n",
    "    for col in range(_X.shape[1]):\n",
    "        _X[:,col] = (_X[:,col] - _X[:,col].min())/(_X[:,col].max() - _X[:,col].min())\n",
    "        \n",
    "    # initializing weights to 1.0f and accounting for w0\n",
    "    W = np.ones([_X.shape[1]+1,1])\n",
    "    X = np.concatenate((np.ones([_X.shape[0],1]),_X),axis=1)\n",
    "    \n",
    "    # gradient descents\n",
    "    for i in range(_epochs):\n",
    "        h = sigmoid(np.dot(X,W))\n",
    "        W = W + _alpha*X.T.dot((_Y - h))\n",
    "        if _verbose and i%1000 == 0:\n",
    "            cost = (-_Y*np.log(h) - (1-_Y)*np.log(1-h))\n",
    "            print('epoch( {0:4d}/{1:} ) loss_avg : {2}'.format(i,_epochs,((cost - cost.min())/(cost.max() - cost.min())).mean()))\n",
    "    return W\n",
    "\n",
    "def train(_X,_Y,_epochs,_alpha,_verbose=True):\n",
    "    return gradient_descent(_X,_Y,_epochs,_alpha,_verbose)\n",
    "\n",
    "def predict(_X,_W,show_prob=False):\n",
    "    # normalizing features\n",
    "    for col in range(_X.shape[1]):\n",
    "        _X[:,col] = (_X[:,col] - _X[:,col].min())/(_X[:,col].max() - _X[:,col].min())\n",
    "    X = np.insert(_X,0,np.ones(_X.shape[0]),axis=1)\n",
    "    \n",
    "    if show_prob:\n",
    "        return sigmoid(np.dot(X,_W))\n",
    "    \n",
    "    return sigmoid(np.dot(X,_W)).round().astype(int)\n",
    "\n",
    "def plot(df,feature):\n",
    "    plt.plot(df[feature],df['admit'],'.',color='xkcd:azure',label='real admit')\n",
    "    plt.plot(df[feature],df['predicted admit'],'+',color='xkcd:orange',label='predicted admit')\n",
    "    plt.xlabel(feature)\n",
    "    plt.ylabel('admit')\n",
    "    plt.legend(loc='best')\n",
    "    plt.show()\n",
    "    \n",
    "def pair_plot(df,f1,f2):\n",
    "    # plots\n",
    "    plt.scatter(df[df['admit']==1][f1], df[df['admit']==1][f2], s=10, label='admit')\n",
    "    plt.scatter(df[df['admit']==0][f1], df[df['admit']==0][f2], s=10, label='not admit')\n",
    "    plt.legend()\n",
    "    plt.show()"
   ]
  },
  {
   "cell_type": "markdown",
   "metadata": {},
   "source": [
    "### ```4.2.0``` Logistic Regression - Model Training"
   ]
  },
  {
   "cell_type": "code",
   "execution_count": 26,
   "metadata": {},
   "outputs": [
    {
     "name": "stdout",
     "output_type": "stream",
     "text": [
      "epoch(    0/20000 ) loss_avg : 0.46142299532601927\n",
      "epoch( 1000/20000 ) loss_avg : 0.2724538350706027\n",
      "epoch( 2000/20000 ) loss_avg : 0.2689768182124872\n",
      "epoch( 3000/20000 ) loss_avg : 0.26855544265727493\n",
      "epoch( 4000/20000 ) loss_avg : 0.2685016694646699\n",
      "epoch( 5000/20000 ) loss_avg : 0.26849476750003903\n",
      "epoch( 6000/20000 ) loss_avg : 0.2684938810321483\n",
      "epoch( 7000/20000 ) loss_avg : 0.26849376716845014\n",
      "epoch( 8000/20000 ) loss_avg : 0.268493752542935\n",
      "epoch( 9000/20000 ) loss_avg : 0.2684937506643213\n",
      "epoch( 10000/20000 ) loss_avg : 0.26849375042301776\n",
      "epoch( 11000/20000 ) loss_avg : 0.26849375039202283\n",
      "epoch( 12000/20000 ) loss_avg : 0.26849375038804163\n",
      "epoch( 13000/20000 ) loss_avg : 0.2684937503875302\n",
      "epoch( 14000/20000 ) loss_avg : 0.2684937503874647\n",
      "epoch( 15000/20000 ) loss_avg : 0.2684937503874562\n",
      "epoch( 16000/20000 ) loss_avg : 0.2684937503874559\n",
      "epoch( 17000/20000 ) loss_avg : 0.2684937503874559\n",
      "epoch( 18000/20000 ) loss_avg : 0.2684937503874559\n",
      "epoch( 19000/20000 ) loss_avg : 0.2684937503874559\n"
     ]
    }
   ],
   "source": [
    "x_cols = ['gre','rank_2','rank_3','rank_4']\n",
    "y_col = ['admit']\n",
    "W = train(df_train[x_cols].to_numpy(),df_train[y_col].to_numpy(),20000,0.001,True)\n",
    "df_train['predicted admit'] = predict(df_train[x_cols].to_numpy(),W)"
   ]
  },
  {
   "cell_type": "markdown",
   "metadata": {},
   "source": [
    "### ```4.3.0``` Logistic Regression - Model Prediction"
   ]
  },
  {
   "cell_type": "code",
   "execution_count": 27,
   "metadata": {},
   "outputs": [
    {
     "data": {
      "text/html": [
       "<div>\n",
       "<style scoped>\n",
       "    .dataframe tbody tr th:only-of-type {\n",
       "        vertical-align: middle;\n",
       "    }\n",
       "\n",
       "    .dataframe tbody tr th {\n",
       "        vertical-align: top;\n",
       "    }\n",
       "\n",
       "    .dataframe thead th {\n",
       "        text-align: right;\n",
       "    }\n",
       "</style>\n",
       "<table border=\"1\" class=\"dataframe\">\n",
       "  <thead>\n",
       "    <tr style=\"text-align: right;\">\n",
       "      <th></th>\n",
       "      <th>admit</th>\n",
       "      <th>gre</th>\n",
       "      <th>gpa</th>\n",
       "      <th>rank</th>\n",
       "      <th>rank_2</th>\n",
       "      <th>rank_3</th>\n",
       "      <th>rank_4</th>\n",
       "      <th>predicted admit</th>\n",
       "    </tr>\n",
       "  </thead>\n",
       "  <tbody>\n",
       "    <tr>\n",
       "      <th>186</th>\n",
       "      <td>0</td>\n",
       "      <td>560</td>\n",
       "      <td>3.61</td>\n",
       "      <td>3</td>\n",
       "      <td>0</td>\n",
       "      <td>1</td>\n",
       "      <td>0</td>\n",
       "      <td>0</td>\n",
       "    </tr>\n",
       "    <tr>\n",
       "      <th>225</th>\n",
       "      <td>1</td>\n",
       "      <td>720</td>\n",
       "      <td>3.50</td>\n",
       "      <td>3</td>\n",
       "      <td>0</td>\n",
       "      <td>1</td>\n",
       "      <td>0</td>\n",
       "      <td>0</td>\n",
       "    </tr>\n",
       "    <tr>\n",
       "      <th>302</th>\n",
       "      <td>1</td>\n",
       "      <td>400</td>\n",
       "      <td>3.15</td>\n",
       "      <td>2</td>\n",
       "      <td>1</td>\n",
       "      <td>0</td>\n",
       "      <td>0</td>\n",
       "      <td>0</td>\n",
       "    </tr>\n",
       "    <tr>\n",
       "      <th>54</th>\n",
       "      <td>0</td>\n",
       "      <td>660</td>\n",
       "      <td>3.34</td>\n",
       "      <td>3</td>\n",
       "      <td>0</td>\n",
       "      <td>1</td>\n",
       "      <td>0</td>\n",
       "      <td>0</td>\n",
       "    </tr>\n",
       "    <tr>\n",
       "      <th>309</th>\n",
       "      <td>0</td>\n",
       "      <td>440</td>\n",
       "      <td>2.98</td>\n",
       "      <td>3</td>\n",
       "      <td>0</td>\n",
       "      <td>1</td>\n",
       "      <td>0</td>\n",
       "      <td>0</td>\n",
       "    </tr>\n",
       "  </tbody>\n",
       "</table>\n",
       "</div>"
      ],
      "text/plain": [
       "     admit  gre   gpa  rank  rank_2  rank_3  rank_4  predicted admit\n",
       "186      0  560  3.61     3       0       1       0                0\n",
       "225      1  720  3.50     3       0       1       0                0\n",
       "302      1  400  3.15     2       1       0       0                0\n",
       "54       0  660  3.34     3       0       1       0                0\n",
       "309      0  440  2.98     3       0       1       0                0"
      ]
     },
     "execution_count": 27,
     "metadata": {},
     "output_type": "execute_result"
    }
   ],
   "source": [
    "df_validation['predicted admit'] = predict(df_validation[x_cols].to_numpy(),W)\n",
    "df_validation.head()"
   ]
  },
  {
   "cell_type": "markdown",
   "metadata": {},
   "source": [
    "### ```4.4.0``` Logistic Regression - Model Validation against ```scikit```\n",
    "\n",
    "* We've finished training our model and running it on validation data, but if we don't have any standard to compare it with then we basically don't know if the model is working as it should\n",
    "\n",
    "* Let's use ```scikit-learn``` on the same data and check predictions"
   ]
  },
  {
   "cell_type": "code",
   "execution_count": 28,
   "metadata": {},
   "outputs": [],
   "source": [
    "# setting up scikit learns logistic regression\n",
    "\n",
    "clf = LogisticRegression(random_state=0).fit(df_train[x_cols].to_numpy(),df_train[y_col].to_numpy().ravel())"
   ]
  },
  {
   "cell_type": "code",
   "execution_count": 29,
   "metadata": {},
   "outputs": [
    {
     "data": {
      "text/html": [
       "<div>\n",
       "<style scoped>\n",
       "    .dataframe tbody tr th:only-of-type {\n",
       "        vertical-align: middle;\n",
       "    }\n",
       "\n",
       "    .dataframe tbody tr th {\n",
       "        vertical-align: top;\n",
       "    }\n",
       "\n",
       "    .dataframe thead th {\n",
       "        text-align: right;\n",
       "    }\n",
       "</style>\n",
       "<table border=\"1\" class=\"dataframe\">\n",
       "  <thead>\n",
       "    <tr style=\"text-align: right;\">\n",
       "      <th></th>\n",
       "      <th>admit</th>\n",
       "      <th>gre</th>\n",
       "      <th>gpa</th>\n",
       "      <th>rank</th>\n",
       "      <th>rank_2</th>\n",
       "      <th>rank_3</th>\n",
       "      <th>rank_4</th>\n",
       "      <th>predicted admit</th>\n",
       "      <th>scikit predicted admit</th>\n",
       "    </tr>\n",
       "  </thead>\n",
       "  <tbody>\n",
       "    <tr>\n",
       "      <th>186</th>\n",
       "      <td>0</td>\n",
       "      <td>560</td>\n",
       "      <td>3.61</td>\n",
       "      <td>3</td>\n",
       "      <td>0</td>\n",
       "      <td>1</td>\n",
       "      <td>0</td>\n",
       "      <td>0</td>\n",
       "      <td>0</td>\n",
       "    </tr>\n",
       "    <tr>\n",
       "      <th>225</th>\n",
       "      <td>1</td>\n",
       "      <td>720</td>\n",
       "      <td>3.50</td>\n",
       "      <td>3</td>\n",
       "      <td>0</td>\n",
       "      <td>1</td>\n",
       "      <td>0</td>\n",
       "      <td>0</td>\n",
       "      <td>0</td>\n",
       "    </tr>\n",
       "    <tr>\n",
       "      <th>302</th>\n",
       "      <td>1</td>\n",
       "      <td>400</td>\n",
       "      <td>3.15</td>\n",
       "      <td>2</td>\n",
       "      <td>1</td>\n",
       "      <td>0</td>\n",
       "      <td>0</td>\n",
       "      <td>0</td>\n",
       "      <td>0</td>\n",
       "    </tr>\n",
       "    <tr>\n",
       "      <th>54</th>\n",
       "      <td>0</td>\n",
       "      <td>660</td>\n",
       "      <td>3.34</td>\n",
       "      <td>3</td>\n",
       "      <td>0</td>\n",
       "      <td>1</td>\n",
       "      <td>0</td>\n",
       "      <td>0</td>\n",
       "      <td>0</td>\n",
       "    </tr>\n",
       "    <tr>\n",
       "      <th>309</th>\n",
       "      <td>0</td>\n",
       "      <td>440</td>\n",
       "      <td>2.98</td>\n",
       "      <td>3</td>\n",
       "      <td>0</td>\n",
       "      <td>1</td>\n",
       "      <td>0</td>\n",
       "      <td>0</td>\n",
       "      <td>0</td>\n",
       "    </tr>\n",
       "  </tbody>\n",
       "</table>\n",
       "</div>"
      ],
      "text/plain": [
       "     admit  gre   gpa  rank  rank_2  rank_3  rank_4  predicted admit  \\\n",
       "186      0  560  3.61     3       0       1       0                0   \n",
       "225      1  720  3.50     3       0       1       0                0   \n",
       "302      1  400  3.15     2       1       0       0                0   \n",
       "54       0  660  3.34     3       0       1       0                0   \n",
       "309      0  440  2.98     3       0       1       0                0   \n",
       "\n",
       "     scikit predicted admit  \n",
       "186                       0  \n",
       "225                       0  \n",
       "302                       0  \n",
       "54                        0  \n",
       "309                       0  "
      ]
     },
     "execution_count": 29,
     "metadata": {},
     "output_type": "execute_result"
    }
   ],
   "source": [
    "# generating scikit learn predictions - validation data\n",
    "\n",
    "df_validation['scikit predicted admit'] = clf.predict(df_validation[x_cols].to_numpy())\n",
    "df_validation.head()"
   ]
  },
  {
   "cell_type": "markdown",
   "metadata": {},
   "source": [
    "### ```5.1.0``` Model Results\n",
    "* We've finished training, validating and testing out model - let's now actually graphically see our results\n"
   ]
  },
  {
   "cell_type": "code",
   "execution_count": 30,
   "metadata": {},
   "outputs": [
    {
     "data": {
      "image/png": "[encoded data removed]",
      "text/plain": [
       "<Figure size 432x288 with 1 Axes>"
      ]
     },
     "metadata": {
      "needs_background": "light"
     },
     "output_type": "display_data"
    }
   ],
   "source": [
    "plot(df_validation,'gre')"
   ]
  },
  {
   "cell_type": "code",
   "execution_count": 31,
   "metadata": {},
   "outputs": [
    {
     "data": {
      "image/png": "[encoded data removed]",
      "text/plain": [
       "<Figure size 432x288 with 1 Axes>"
      ]
     },
     "metadata": {
      "needs_background": "light"
     },
     "output_type": "display_data"
    }
   ],
   "source": [
    "plot(df_validation,'gpa')"
   ]
  },
  {
   "cell_type": "code",
   "execution_count": 32,
   "metadata": {},
   "outputs": [
    {
     "data": {
      "image/png": "[encoded data removed]",
      "text/plain": [
       "<Figure size 432x288 with 1 Axes>"
      ]
     },
     "metadata": {
      "needs_background": "light"
     },
     "output_type": "display_data"
    }
   ],
   "source": [
    "plot(df_validation,'rank')"
   ]
  },
  {
   "cell_type": "code",
   "execution_count": 33,
   "metadata": {},
   "outputs": [
    {
     "data": {
      "image/png": "[encoded data removed]",
      "text/plain": [
       "<Figure size 432x288 with 1 Axes>"
      ]
     },
     "metadata": {
      "needs_background": "light"
     },
     "output_type": "display_data"
    }
   ],
   "source": [
    "pair_plot(df_validation,'gre','gpa')"
   ]
  },
  {
   "cell_type": "code",
   "execution_count": 34,
   "metadata": {},
   "outputs": [
    {
     "data": {
      "image/png": "[encoded data removed]",
      "text/plain": [
       "<Figure size 432x288 with 1 Axes>"
      ]
     },
     "metadata": {
      "needs_background": "light"
     },
     "output_type": "display_data"
    }
   ],
   "source": [
    "plot(df_validation,'rank')"
   ]
  },
  {
   "cell_type": "code",
   "execution_count": 35,
   "metadata": {},
   "outputs": [
    {
     "data": {
      "text/plain": [
       "admit                       int64\n",
       "gre                         int64\n",
       "gpa                       float64\n",
       "rank                        int64\n",
       "rank_2                      uint8\n",
       "rank_3                      uint8\n",
       "rank_4                      uint8\n",
       "predicted admit             int64\n",
       "scikit predicted admit      int64\n",
       "dtype: object"
      ]
     },
     "execution_count": 35,
     "metadata": {},
     "output_type": "execute_result"
    }
   ],
   "source": [
    "df_validation.dtypes"
   ]
  },
  {
   "cell_type": "markdown",
   "metadata": {},
   "source": [
    "### ```5.2.0``` Model Performance and comparision"
   ]
  },
  {
   "cell_type": "code",
   "execution_count": 41,
   "metadata": {},
   "outputs": [
    {
     "data": {
      "text/html": [
       "<div>\n",
       "<style scoped>\n",
       "    .dataframe tbody tr th:only-of-type {\n",
       "        vertical-align: middle;\n",
       "    }\n",
       "\n",
       "    .dataframe tbody tr th {\n",
       "        vertical-align: top;\n",
       "    }\n",
       "\n",
       "    .dataframe thead th {\n",
       "        text-align: right;\n",
       "    }\n",
       "</style>\n",
       "<table border=\"1\" class=\"dataframe\">\n",
       "  <thead>\n",
       "    <tr style=\"text-align: right;\">\n",
       "      <th></th>\n",
       "      <th>MY ACCURACY</th>\n",
       "      <th>SCIKIT ACCURACY</th>\n",
       "    </tr>\n",
       "  </thead>\n",
       "  <tbody>\n",
       "    <tr>\n",
       "      <th>0</th>\n",
       "      <td>0.7</td>\n",
       "      <td>0.725</td>\n",
       "    </tr>\n",
       "  </tbody>\n",
       "</table>\n",
       "</div>"
      ],
      "text/plain": [
       "   MY ACCURACY  SCIKIT ACCURACY\n",
       "0          0.7            0.725"
      ]
     },
     "execution_count": 41,
     "metadata": {},
     "output_type": "execute_result"
    }
   ],
   "source": [
    "#test data predictions\n",
    "df_test['predicted admit'] = predict(df_test[x_cols].to_numpy(),W)\n",
    "df_test['scikit predicted admit'] = clf.predict(df_test[x_cols].to_numpy())\n",
    "\n",
    "# accuracy scores\n",
    "my_accuracy = accuracy_score(df_test[['predicted admit']].to_numpy(),df_test[y_col].to_numpy())\n",
    "scikit_accuracy = accuracy_score(df_test[['scikit predicted admit']].to_numpy(),df_test[y_col].to_numpy())\n",
    "df_accuracy = pd.DataFrame([[my_accuracy,scikit_accuracy]],columns=['MY ACCURACY','SCIKIT ACCURACY'])\n",
    "df_accuracy.head()"
   ]
  }
 ],
 "metadata": {
  "kernelspec": {
   "display_name": "Python 3",
   "language": "python",
   "name": "python3"
  },
  "language_info": {
   "codemirror_mode": {
    "name": "ipython",
    "version": 3
   },
   "file_extension": ".py",
   "mimetype": "text/x-python",
   "name": "python",
   "nbconvert_exporter": "python",
   "pygments_lexer": "ipython3",
   "version": "3.7.6"
  }
 },
 "nbformat": 4,
 "nbformat_minor": 4
}
